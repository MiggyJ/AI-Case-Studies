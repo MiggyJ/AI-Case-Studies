{
  "cells": [
    {
      "cell_type": "markdown",
      "metadata": {
        "id": "QMh05h_rs-PG"
      },
      "source": [
        "# Data Preparation\n",
        "\n",
        "Dataset: <a href=\"https://www.kaggle.com/new-york-city/nyc-property-sales/downloads/nyc-property-sales.zip/1\">NYC Property Sales</a><br>\n",
        "Filename: nyc-rolling-sales.csv<br>\n",
        "Target Variable: SALE PRICE\n"
      ]
    },
    {
      "cell_type": "markdown",
      "metadata": {
        "id": "3IdkyORms-Pb"
      },
      "source": [
        "<table>\n",
        "  <tr>\n",
        "    <th>Feature_Name</th>\n",
        "    <th>Feature_Type</th>\n",
        "  </tr>\n",
        "  <tr>\n",
        "    <td>Unnamed: 0</td>\n",
        "    <td>Unknown</td>\n",
        "  </tr>\n",
        "  <tr>\n",
        "    <td>BOROUGH</td>\n",
        "    <td>CATEGORICAL</td>\n",
        "  </tr>\n",
        "  <tr>\n",
        "    <td>NEIGHBORHOOD</td>\n",
        "    <td>CATEGORICAL</td>\n",
        "  </tr>\n",
        "  <tr>\n",
        "    <td>BUILDING CLASS CATEGORY</td>\n",
        "    <td>CATEGORICAL</td>\n",
        "  </tr>\n",
        "  <tr>\n",
        "    <td>TAX CLASS AT PRESENT</td>\n",
        "    <td>CATEGORICAL</td>\n",
        "  </tr>\n",
        "  <tr>\n",
        "    <td>BLOCK</td>\n",
        "    <td>CATEGORICAL</td>\n",
        "  </tr>\n",
        "  <tr>\n",
        "    <td>LOT</td>\n",
        "    <td>CATEGORICAL</td>\n",
        "  </tr>\n",
        "  <tr>\n",
        "    <td>EASE-MENT</td>\n",
        "    <td>Unknown</td>\n",
        "  </tr>\n",
        "  <tr>\n",
        "    <td>BUILDING CLASS AT PRESENT</td>\n",
        "    <td>CATEGORICAL</td>\n",
        "  </tr>\n",
        "  <tr>\n",
        "    <td>ADDRESS</td>\n",
        "    <td>CATEGORICAL</td>\n",
        "  </tr>\n",
        "  <tr>\n",
        "    <td>APARTMENT NUMBER</td>\n",
        "    <td>CATEGORICAL</td>\n",
        "  </tr>\n",
        "  <tr>\n",
        "    <td>ZIP CODE</td>\n",
        "    <td>CATEGORICAL</td>\n",
        "  </tr>\n",
        "  <tr>\n",
        "    <td>RESIDENTIAL UNITS</td>\n",
        "    <td>NUMERICAL</td>\n",
        "  </tr>\n",
        "  <tr>\n",
        "    <td>COMMERCIAL UNITS</td>\n",
        "    <td>NUMERICAL</td>\n",
        "  </tr>\n",
        "  <tr>\n",
        "    <td>TOTAL UNITS</td>\n",
        "    <td>NUMERICAL</td>\n",
        "  </tr>\n",
        "  <tr>\n",
        "    <td>LAND SQUARE FEET</td>\n",
        "    <td>NUMERICAL</td>\n",
        "  </tr>\n",
        "  <tr>\n",
        "    <td>GROSS SQUARE FEET</td>\n",
        "    <td>NUMERICAL</td>\n",
        "  </tr>\n",
        "  <tr>\n",
        "    <td>YEAR BUILT</td>\n",
        "    <td>NUMERICAL</td>\n",
        "  </tr>\n",
        "  <tr>\n",
        "    <td>TAX CLASS AT TIME OF SALE</td>\n",
        "    <td>CATEGORICAL</td>\n",
        "  </tr>\n",
        "  <tr>\n",
        "    <td>BUILDING CLASS AT TIME OF SALE</td>\n",
        "    <td>CATEGORICAL</td>\n",
        "  </tr>\n",
        "  <tr>\n",
        "    <td>SALE PRICE</td>\n",
        "    <td>NUMERICAL (TARGET)</td>\n",
        "  </tr>\n",
        "  <tr>\n",
        "    <td>SALE DATE</td>\n",
        "    <td>DATETIME</td>\n",
        "  </tr>\n",
        "</table>"
      ]
    },
    {
      "cell_type": "markdown",
      "metadata": {
        "id": "8qAet1QJs-Pe"
      },
      "source": [
        "## Import Libraries"
      ]
    },
    {
      "cell_type": "code",
      "execution_count": 1,
      "metadata": {},
      "outputs": [],
      "source": [
        "import pandas as pd\n",
        "import numpy as np\n",
        "import matplotlib.pyplot as plt\n",
        "import seaborn as sns\n",
        "\n",
        "%matplotlib inline"
      ]
    },
    {
      "cell_type": "code",
      "execution_count": 2,
      "metadata": {},
      "outputs": [],
      "source": [
        "pd.options.display.float_format = '{:.2f}'.format\n",
        "plt.style.use('classic')\n",
        "\n",
        "#Filter Warnings\n",
        "import warnings\n",
        "warnings.filterwarnings('ignore')"
      ]
    },
    {
      "cell_type": "markdown",
      "metadata": {
        "id": "PsPfp5yjs-Pg"
      },
      "source": [
        "________"
      ]
    },
    {
      "cell_type": "markdown",
      "metadata": {
        "id": "mjriD8ecs-Pg"
      },
      "source": [
        "## Load the Dataset\n",
        "* Specify the Parameters (Filepath, Index Column)\n",
        "* Check for Date-Time Columns to Parse Dates\n",
        "* Check Encoding if file does not load correctly"
      ]
    },
    {
      "cell_type": "code",
      "execution_count": 3,
      "metadata": {
        "id": "sPKEyHmAs-Ph"
      },
      "outputs": [],
      "source": [
        "df_base = pd.read_csv('./data/nyc-rolling-sales.csv', index_col=0)"
      ]
    },
    {
      "cell_type": "markdown",
      "metadata": {
        "id": "UBrqUJyTs-Pj"
      },
      "source": [
        "View the Dataset"
      ]
    },
    {
      "cell_type": "code",
      "execution_count": 4,
      "metadata": {
        "id": "_5a6Xet5s-Pk"
      },
      "outputs": [
        {
          "data": {
            "text/html": [
              "<div>\n",
              "<style scoped>\n",
              "    .dataframe tbody tr th:only-of-type {\n",
              "        vertical-align: middle;\n",
              "    }\n",
              "\n",
              "    .dataframe tbody tr th {\n",
              "        vertical-align: top;\n",
              "    }\n",
              "\n",
              "    .dataframe thead th {\n",
              "        text-align: right;\n",
              "    }\n",
              "</style>\n",
              "<table border=\"1\" class=\"dataframe\">\n",
              "  <thead>\n",
              "    <tr style=\"text-align: right;\">\n",
              "      <th></th>\n",
              "      <th>BOROUGH</th>\n",
              "      <th>NEIGHBORHOOD</th>\n",
              "      <th>BUILDING CLASS CATEGORY</th>\n",
              "      <th>TAX CLASS AT PRESENT</th>\n",
              "      <th>BLOCK</th>\n",
              "      <th>LOT</th>\n",
              "      <th>EASE-MENT</th>\n",
              "      <th>BUILDING CLASS AT PRESENT</th>\n",
              "      <th>ADDRESS</th>\n",
              "      <th>APARTMENT NUMBER</th>\n",
              "      <th>...</th>\n",
              "      <th>RESIDENTIAL UNITS</th>\n",
              "      <th>COMMERCIAL UNITS</th>\n",
              "      <th>TOTAL UNITS</th>\n",
              "      <th>LAND SQUARE FEET</th>\n",
              "      <th>GROSS SQUARE FEET</th>\n",
              "      <th>YEAR BUILT</th>\n",
              "      <th>TAX CLASS AT TIME OF SALE</th>\n",
              "      <th>BUILDING CLASS AT TIME OF SALE</th>\n",
              "      <th>SALE PRICE</th>\n",
              "      <th>SALE DATE</th>\n",
              "    </tr>\n",
              "  </thead>\n",
              "  <tbody>\n",
              "    <tr>\n",
              "      <th>4</th>\n",
              "      <td>1</td>\n",
              "      <td>ALPHABET CITY</td>\n",
              "      <td>07 RENTALS - WALKUP APARTMENTS</td>\n",
              "      <td>2A</td>\n",
              "      <td>392</td>\n",
              "      <td>6</td>\n",
              "      <td></td>\n",
              "      <td>C2</td>\n",
              "      <td>153 AVENUE B</td>\n",
              "      <td></td>\n",
              "      <td>...</td>\n",
              "      <td>5</td>\n",
              "      <td>0</td>\n",
              "      <td>5</td>\n",
              "      <td>1633</td>\n",
              "      <td>6440</td>\n",
              "      <td>1900</td>\n",
              "      <td>2</td>\n",
              "      <td>C2</td>\n",
              "      <td>6625000</td>\n",
              "      <td>2017-07-19 00:00:00</td>\n",
              "    </tr>\n",
              "    <tr>\n",
              "      <th>5</th>\n",
              "      <td>1</td>\n",
              "      <td>ALPHABET CITY</td>\n",
              "      <td>07 RENTALS - WALKUP APARTMENTS</td>\n",
              "      <td>2</td>\n",
              "      <td>399</td>\n",
              "      <td>26</td>\n",
              "      <td></td>\n",
              "      <td>C7</td>\n",
              "      <td>234 EAST 4TH   STREET</td>\n",
              "      <td></td>\n",
              "      <td>...</td>\n",
              "      <td>28</td>\n",
              "      <td>3</td>\n",
              "      <td>31</td>\n",
              "      <td>4616</td>\n",
              "      <td>18690</td>\n",
              "      <td>1900</td>\n",
              "      <td>2</td>\n",
              "      <td>C7</td>\n",
              "      <td>-</td>\n",
              "      <td>2016-12-14 00:00:00</td>\n",
              "    </tr>\n",
              "    <tr>\n",
              "      <th>6</th>\n",
              "      <td>1</td>\n",
              "      <td>ALPHABET CITY</td>\n",
              "      <td>07 RENTALS - WALKUP APARTMENTS</td>\n",
              "      <td>2</td>\n",
              "      <td>399</td>\n",
              "      <td>39</td>\n",
              "      <td></td>\n",
              "      <td>C7</td>\n",
              "      <td>197 EAST 3RD   STREET</td>\n",
              "      <td></td>\n",
              "      <td>...</td>\n",
              "      <td>16</td>\n",
              "      <td>1</td>\n",
              "      <td>17</td>\n",
              "      <td>2212</td>\n",
              "      <td>7803</td>\n",
              "      <td>1900</td>\n",
              "      <td>2</td>\n",
              "      <td>C7</td>\n",
              "      <td>-</td>\n",
              "      <td>2016-12-09 00:00:00</td>\n",
              "    </tr>\n",
              "    <tr>\n",
              "      <th>7</th>\n",
              "      <td>1</td>\n",
              "      <td>ALPHABET CITY</td>\n",
              "      <td>07 RENTALS - WALKUP APARTMENTS</td>\n",
              "      <td>2B</td>\n",
              "      <td>402</td>\n",
              "      <td>21</td>\n",
              "      <td></td>\n",
              "      <td>C4</td>\n",
              "      <td>154 EAST 7TH STREET</td>\n",
              "      <td></td>\n",
              "      <td>...</td>\n",
              "      <td>10</td>\n",
              "      <td>0</td>\n",
              "      <td>10</td>\n",
              "      <td>2272</td>\n",
              "      <td>6794</td>\n",
              "      <td>1913</td>\n",
              "      <td>2</td>\n",
              "      <td>C4</td>\n",
              "      <td>3936272</td>\n",
              "      <td>2016-09-23 00:00:00</td>\n",
              "    </tr>\n",
              "    <tr>\n",
              "      <th>8</th>\n",
              "      <td>1</td>\n",
              "      <td>ALPHABET CITY</td>\n",
              "      <td>07 RENTALS - WALKUP APARTMENTS</td>\n",
              "      <td>2A</td>\n",
              "      <td>404</td>\n",
              "      <td>55</td>\n",
              "      <td></td>\n",
              "      <td>C2</td>\n",
              "      <td>301 EAST 10TH   STREET</td>\n",
              "      <td></td>\n",
              "      <td>...</td>\n",
              "      <td>6</td>\n",
              "      <td>0</td>\n",
              "      <td>6</td>\n",
              "      <td>2369</td>\n",
              "      <td>4615</td>\n",
              "      <td>1900</td>\n",
              "      <td>2</td>\n",
              "      <td>C2</td>\n",
              "      <td>8000000</td>\n",
              "      <td>2016-11-17 00:00:00</td>\n",
              "    </tr>\n",
              "  </tbody>\n",
              "</table>\n",
              "<p>5 rows × 21 columns</p>\n",
              "</div>"
            ],
            "text/plain": [
              "   BOROUGH   NEIGHBORHOOD                      BUILDING CLASS CATEGORY  \\\n",
              "4        1  ALPHABET CITY  07 RENTALS - WALKUP APARTMENTS                \n",
              "5        1  ALPHABET CITY  07 RENTALS - WALKUP APARTMENTS                \n",
              "6        1  ALPHABET CITY  07 RENTALS - WALKUP APARTMENTS                \n",
              "7        1  ALPHABET CITY  07 RENTALS - WALKUP APARTMENTS                \n",
              "8        1  ALPHABET CITY  07 RENTALS - WALKUP APARTMENTS                \n",
              "\n",
              "  TAX CLASS AT PRESENT  BLOCK  LOT EASE-MENT BUILDING CLASS AT PRESENT  \\\n",
              "4                   2A    392    6                                  C2   \n",
              "5                    2    399   26                                  C7   \n",
              "6                    2    399   39                                  C7   \n",
              "7                   2B    402   21                                  C4   \n",
              "8                   2A    404   55                                  C2   \n",
              "\n",
              "                  ADDRESS APARTMENT NUMBER  ...  RESIDENTIAL UNITS  \\\n",
              "4            153 AVENUE B                   ...                  5   \n",
              "5   234 EAST 4TH   STREET                   ...                 28   \n",
              "6   197 EAST 3RD   STREET                   ...                 16   \n",
              "7     154 EAST 7TH STREET                   ...                 10   \n",
              "8  301 EAST 10TH   STREET                   ...                  6   \n",
              "\n",
              "   COMMERCIAL UNITS  TOTAL UNITS  LAND SQUARE FEET GROSS SQUARE FEET  \\\n",
              "4                 0            5              1633              6440   \n",
              "5                 3           31              4616             18690   \n",
              "6                 1           17              2212              7803   \n",
              "7                 0           10              2272              6794   \n",
              "8                 0            6              2369              4615   \n",
              "\n",
              "  YEAR BUILT  TAX CLASS AT TIME OF SALE  BUILDING CLASS AT TIME OF SALE  \\\n",
              "4       1900                          2                              C2   \n",
              "5       1900                          2                              C7   \n",
              "6       1900                          2                              C7   \n",
              "7       1913                          2                              C4   \n",
              "8       1900                          2                              C2   \n",
              "\n",
              "  SALE PRICE            SALE DATE  \n",
              "4    6625000  2017-07-19 00:00:00  \n",
              "5        -    2016-12-14 00:00:00  \n",
              "6        -    2016-12-09 00:00:00  \n",
              "7    3936272  2016-09-23 00:00:00  \n",
              "8    8000000  2016-11-17 00:00:00  \n",
              "\n",
              "[5 rows x 21 columns]"
            ]
          },
          "execution_count": 4,
          "metadata": {},
          "output_type": "execute_result"
        }
      ],
      "source": [
        "df_base.head()"
      ]
    },
    {
      "cell_type": "code",
      "execution_count": 5,
      "metadata": {},
      "outputs": [
        {
          "name": "stdout",
          "output_type": "stream",
          "text": [
            "<class 'pandas.core.frame.DataFrame'>\n",
            "Int64Index: 84548 entries, 4 to 8413\n",
            "Data columns (total 21 columns):\n",
            " #   Column                          Non-Null Count  Dtype \n",
            "---  ------                          --------------  ----- \n",
            " 0   BOROUGH                         84548 non-null  int64 \n",
            " 1   NEIGHBORHOOD                    84548 non-null  object\n",
            " 2   BUILDING CLASS CATEGORY         84548 non-null  object\n",
            " 3   TAX CLASS AT PRESENT            84548 non-null  object\n",
            " 4   BLOCK                           84548 non-null  int64 \n",
            " 5   LOT                             84548 non-null  int64 \n",
            " 6   EASE-MENT                       84548 non-null  object\n",
            " 7   BUILDING CLASS AT PRESENT       84548 non-null  object\n",
            " 8   ADDRESS                         84548 non-null  object\n",
            " 9   APARTMENT NUMBER                84548 non-null  object\n",
            " 10  ZIP CODE                        84548 non-null  int64 \n",
            " 11  RESIDENTIAL UNITS               84548 non-null  int64 \n",
            " 12  COMMERCIAL UNITS                84548 non-null  int64 \n",
            " 13  TOTAL UNITS                     84548 non-null  int64 \n",
            " 14  LAND SQUARE FEET                84548 non-null  object\n",
            " 15  GROSS SQUARE FEET               84548 non-null  object\n",
            " 16  YEAR BUILT                      84548 non-null  int64 \n",
            " 17  TAX CLASS AT TIME OF SALE       84548 non-null  int64 \n",
            " 18  BUILDING CLASS AT TIME OF SALE  84548 non-null  object\n",
            " 19  SALE PRICE                      84548 non-null  object\n",
            " 20  SALE DATE                       84548 non-null  object\n",
            "dtypes: int64(9), object(12)\n",
            "memory usage: 14.2+ MB\n"
          ]
        }
      ],
      "source": [
        "df_base.info()"
      ]
    },
    {
      "cell_type": "code",
      "execution_count": 6,
      "metadata": {},
      "outputs": [
        {
          "data": {
            "text/html": [
              "<div>\n",
              "<style scoped>\n",
              "    .dataframe tbody tr th:only-of-type {\n",
              "        vertical-align: middle;\n",
              "    }\n",
              "\n",
              "    .dataframe tbody tr th {\n",
              "        vertical-align: top;\n",
              "    }\n",
              "\n",
              "    .dataframe thead th {\n",
              "        text-align: right;\n",
              "    }\n",
              "</style>\n",
              "<table border=\"1\" class=\"dataframe\">\n",
              "  <thead>\n",
              "    <tr style=\"text-align: right;\">\n",
              "      <th></th>\n",
              "      <th>BOROUGH</th>\n",
              "      <th>NEIGHBORHOOD</th>\n",
              "      <th>BUILDING CLASS CATEGORY</th>\n",
              "      <th>TAX CLASS AT PRESENT</th>\n",
              "      <th>BLOCK</th>\n",
              "      <th>LOT</th>\n",
              "      <th>EASE-MENT</th>\n",
              "      <th>BUILDING CLASS AT PRESENT</th>\n",
              "      <th>ADDRESS</th>\n",
              "      <th>APARTMENT NUMBER</th>\n",
              "      <th>...</th>\n",
              "      <th>RESIDENTIAL UNITS</th>\n",
              "      <th>COMMERCIAL UNITS</th>\n",
              "      <th>TOTAL UNITS</th>\n",
              "      <th>LAND SQUARE FEET</th>\n",
              "      <th>GROSS SQUARE FEET</th>\n",
              "      <th>YEAR BUILT</th>\n",
              "      <th>TAX CLASS AT TIME OF SALE</th>\n",
              "      <th>BUILDING CLASS AT TIME OF SALE</th>\n",
              "      <th>SALE PRICE</th>\n",
              "      <th>SALE DATE</th>\n",
              "    </tr>\n",
              "  </thead>\n",
              "  <tbody>\n",
              "    <tr>\n",
              "      <th>4</th>\n",
              "      <td>1</td>\n",
              "      <td>ALPHABET CITY</td>\n",
              "      <td>07 RENTALS - WALKUP APARTMENTS</td>\n",
              "      <td>2A</td>\n",
              "      <td>392</td>\n",
              "      <td>6</td>\n",
              "      <td></td>\n",
              "      <td>C2</td>\n",
              "      <td>153 AVENUE B</td>\n",
              "      <td></td>\n",
              "      <td>...</td>\n",
              "      <td>5</td>\n",
              "      <td>0</td>\n",
              "      <td>5</td>\n",
              "      <td>1633</td>\n",
              "      <td>6440</td>\n",
              "      <td>1900</td>\n",
              "      <td>2</td>\n",
              "      <td>C2</td>\n",
              "      <td>6625000</td>\n",
              "      <td>2017-07-19</td>\n",
              "    </tr>\n",
              "    <tr>\n",
              "      <th>5</th>\n",
              "      <td>1</td>\n",
              "      <td>ALPHABET CITY</td>\n",
              "      <td>07 RENTALS - WALKUP APARTMENTS</td>\n",
              "      <td>2</td>\n",
              "      <td>399</td>\n",
              "      <td>26</td>\n",
              "      <td></td>\n",
              "      <td>C7</td>\n",
              "      <td>234 EAST 4TH   STREET</td>\n",
              "      <td></td>\n",
              "      <td>...</td>\n",
              "      <td>28</td>\n",
              "      <td>3</td>\n",
              "      <td>31</td>\n",
              "      <td>4616</td>\n",
              "      <td>18690</td>\n",
              "      <td>1900</td>\n",
              "      <td>2</td>\n",
              "      <td>C7</td>\n",
              "      <td>-</td>\n",
              "      <td>2016-12-14</td>\n",
              "    </tr>\n",
              "    <tr>\n",
              "      <th>6</th>\n",
              "      <td>1</td>\n",
              "      <td>ALPHABET CITY</td>\n",
              "      <td>07 RENTALS - WALKUP APARTMENTS</td>\n",
              "      <td>2</td>\n",
              "      <td>399</td>\n",
              "      <td>39</td>\n",
              "      <td></td>\n",
              "      <td>C7</td>\n",
              "      <td>197 EAST 3RD   STREET</td>\n",
              "      <td></td>\n",
              "      <td>...</td>\n",
              "      <td>16</td>\n",
              "      <td>1</td>\n",
              "      <td>17</td>\n",
              "      <td>2212</td>\n",
              "      <td>7803</td>\n",
              "      <td>1900</td>\n",
              "      <td>2</td>\n",
              "      <td>C7</td>\n",
              "      <td>-</td>\n",
              "      <td>2016-12-09</td>\n",
              "    </tr>\n",
              "    <tr>\n",
              "      <th>7</th>\n",
              "      <td>1</td>\n",
              "      <td>ALPHABET CITY</td>\n",
              "      <td>07 RENTALS - WALKUP APARTMENTS</td>\n",
              "      <td>2B</td>\n",
              "      <td>402</td>\n",
              "      <td>21</td>\n",
              "      <td></td>\n",
              "      <td>C4</td>\n",
              "      <td>154 EAST 7TH STREET</td>\n",
              "      <td></td>\n",
              "      <td>...</td>\n",
              "      <td>10</td>\n",
              "      <td>0</td>\n",
              "      <td>10</td>\n",
              "      <td>2272</td>\n",
              "      <td>6794</td>\n",
              "      <td>1913</td>\n",
              "      <td>2</td>\n",
              "      <td>C4</td>\n",
              "      <td>3936272</td>\n",
              "      <td>2016-09-23</td>\n",
              "    </tr>\n",
              "    <tr>\n",
              "      <th>8</th>\n",
              "      <td>1</td>\n",
              "      <td>ALPHABET CITY</td>\n",
              "      <td>07 RENTALS - WALKUP APARTMENTS</td>\n",
              "      <td>2A</td>\n",
              "      <td>404</td>\n",
              "      <td>55</td>\n",
              "      <td></td>\n",
              "      <td>C2</td>\n",
              "      <td>301 EAST 10TH   STREET</td>\n",
              "      <td></td>\n",
              "      <td>...</td>\n",
              "      <td>6</td>\n",
              "      <td>0</td>\n",
              "      <td>6</td>\n",
              "      <td>2369</td>\n",
              "      <td>4615</td>\n",
              "      <td>1900</td>\n",
              "      <td>2</td>\n",
              "      <td>C2</td>\n",
              "      <td>8000000</td>\n",
              "      <td>2016-11-17</td>\n",
              "    </tr>\n",
              "  </tbody>\n",
              "</table>\n",
              "<p>5 rows × 21 columns</p>\n",
              "</div>"
            ],
            "text/plain": [
              "   BOROUGH   NEIGHBORHOOD                      BUILDING CLASS CATEGORY  \\\n",
              "4        1  ALPHABET CITY  07 RENTALS - WALKUP APARTMENTS                \n",
              "5        1  ALPHABET CITY  07 RENTALS - WALKUP APARTMENTS                \n",
              "6        1  ALPHABET CITY  07 RENTALS - WALKUP APARTMENTS                \n",
              "7        1  ALPHABET CITY  07 RENTALS - WALKUP APARTMENTS                \n",
              "8        1  ALPHABET CITY  07 RENTALS - WALKUP APARTMENTS                \n",
              "\n",
              "  TAX CLASS AT PRESENT  BLOCK  LOT EASE-MENT BUILDING CLASS AT PRESENT  \\\n",
              "4                   2A    392    6                                  C2   \n",
              "5                    2    399   26                                  C7   \n",
              "6                    2    399   39                                  C7   \n",
              "7                   2B    402   21                                  C4   \n",
              "8                   2A    404   55                                  C2   \n",
              "\n",
              "                  ADDRESS APARTMENT NUMBER  ...  RESIDENTIAL UNITS  \\\n",
              "4            153 AVENUE B                   ...                  5   \n",
              "5   234 EAST 4TH   STREET                   ...                 28   \n",
              "6   197 EAST 3RD   STREET                   ...                 16   \n",
              "7     154 EAST 7TH STREET                   ...                 10   \n",
              "8  301 EAST 10TH   STREET                   ...                  6   \n",
              "\n",
              "   COMMERCIAL UNITS  TOTAL UNITS  LAND SQUARE FEET GROSS SQUARE FEET  \\\n",
              "4                 0            5              1633              6440   \n",
              "5                 3           31              4616             18690   \n",
              "6                 1           17              2212              7803   \n",
              "7                 0           10              2272              6794   \n",
              "8                 0            6              2369              4615   \n",
              "\n",
              "  YEAR BUILT  TAX CLASS AT TIME OF SALE  BUILDING CLASS AT TIME OF SALE  \\\n",
              "4       1900                          2                              C2   \n",
              "5       1900                          2                              C7   \n",
              "6       1900                          2                              C7   \n",
              "7       1913                          2                              C4   \n",
              "8       1900                          2                              C2   \n",
              "\n",
              "  SALE PRICE  SALE DATE  \n",
              "4    6625000 2017-07-19  \n",
              "5        -   2016-12-14  \n",
              "6        -   2016-12-09  \n",
              "7    3936272 2016-09-23  \n",
              "8    8000000 2016-11-17  \n",
              "\n",
              "[5 rows x 21 columns]"
            ]
          },
          "execution_count": 6,
          "metadata": {},
          "output_type": "execute_result"
        }
      ],
      "source": [
        "df_base['SALE DATE'] = pd.to_datetime(df_base['SALE DATE'])\n",
        "\n",
        "df_base.head()"
      ]
    },
    {
      "cell_type": "markdown",
      "metadata": {
        "id": "IiRPqJ-xs-Pl"
      },
      "source": [
        "Check the Shape"
      ]
    },
    {
      "cell_type": "code",
      "execution_count": 7,
      "metadata": {
        "id": "iyJi4h3Ys-Pm"
      },
      "outputs": [
        {
          "data": {
            "text/plain": [
              "(84548, 21)"
            ]
          },
          "execution_count": 7,
          "metadata": {},
          "output_type": "execute_result"
        }
      ],
      "source": [
        "df_base.shape"
      ]
    },
    {
      "cell_type": "markdown",
      "metadata": {
        "id": "tapWj61Ws-Pn"
      },
      "source": [
        "## Ensure Columns / Features have Proper Labels"
      ]
    },
    {
      "cell_type": "markdown",
      "metadata": {
        "id": "KW_maWm3s-Po"
      },
      "source": [
        "Remove any columns that have not been labelled properly or are of unknown feature type"
      ]
    },
    {
      "cell_type": "code",
      "execution_count": 8,
      "metadata": {
        "id": "cyOkIZdes-Pt"
      },
      "outputs": [
        {
          "data": {
            "text/plain": [
              "Index(['BOROUGH', 'NEIGHBORHOOD', 'BUILDING CLASS CATEGORY',\n",
              "       'TAX CLASS AT PRESENT', 'BLOCK', 'LOT', 'EASE-MENT',\n",
              "       'BUILDING CLASS AT PRESENT', 'ADDRESS', 'APARTMENT NUMBER', 'ZIP CODE',\n",
              "       'RESIDENTIAL UNITS', 'COMMERCIAL UNITS', 'TOTAL UNITS',\n",
              "       'LAND SQUARE FEET', 'GROSS SQUARE FEET', 'YEAR BUILT',\n",
              "       'TAX CLASS AT TIME OF SALE', 'BUILDING CLASS AT TIME OF SALE',\n",
              "       'SALE PRICE', 'SALE DATE'],\n",
              "      dtype='object')"
            ]
          },
          "execution_count": 8,
          "metadata": {},
          "output_type": "execute_result"
        }
      ],
      "source": [
        "df_base.columns"
      ]
    },
    {
      "cell_type": "code",
      "execution_count": 9,
      "metadata": {},
      "outputs": [],
      "source": [
        "df_base.drop(columns=['EASE-MENT'], inplace=True)"
      ]
    },
    {
      "cell_type": "code",
      "execution_count": 10,
      "metadata": {},
      "outputs": [
        {
          "name": "stdout",
          "output_type": "stream",
          "text": [
            "<class 'pandas.core.frame.DataFrame'>\n",
            "Int64Index: 84548 entries, 4 to 8413\n",
            "Data columns (total 20 columns):\n",
            " #   Column                          Non-Null Count  Dtype         \n",
            "---  ------                          --------------  -----         \n",
            " 0   BOROUGH                         84548 non-null  int64         \n",
            " 1   NEIGHBORHOOD                    84548 non-null  object        \n",
            " 2   BUILDING_CLASS_CATEGORY         84548 non-null  object        \n",
            " 3   TAX_CLASS_AT_PRESENT            84548 non-null  object        \n",
            " 4   BLOCK                           84548 non-null  int64         \n",
            " 5   LOT                             84548 non-null  int64         \n",
            " 6   BUILDING_CLASS_AT_PRESENT       84548 non-null  object        \n",
            " 7   ADDRESS                         84548 non-null  object        \n",
            " 8   APARTMENT_NUMBER                84548 non-null  object        \n",
            " 9   ZIP_CODE                        84548 non-null  int64         \n",
            " 10  RESIDENTIAL_UNITS               84548 non-null  int64         \n",
            " 11  COMMERCIAL_UNITS                84548 non-null  int64         \n",
            " 12  TOTAL_UNITS                     84548 non-null  int64         \n",
            " 13  LAND_SQUARE_FEET                84548 non-null  object        \n",
            " 14  GROSS_SQUARE_FEET               84548 non-null  object        \n",
            " 15  YEAR_BUILT                      84548 non-null  int64         \n",
            " 16  TAX_CLASS_AT_TIME_OF_SALE       84548 non-null  int64         \n",
            " 17  BUILDING_CLASS_AT_TIME_OF_SALE  84548 non-null  object        \n",
            " 18  SALE_PRICE                      84548 non-null  object        \n",
            " 19  SALE_DATE                       84548 non-null  datetime64[ns]\n",
            "dtypes: datetime64[ns](1), int64(9), object(10)\n",
            "memory usage: 13.5+ MB\n"
          ]
        }
      ],
      "source": [
        "df_base.rename(\n",
        "    {\n",
        "        'BUILDING CLASS CATEGORY': 'BUILDING_CLASS_CATEGORY',\n",
        "        'TAX CLASS AT PRESENT': 'TAX_CLASS_AT_PRESENT',\n",
        "        'BUILDING CLASS AT PRESENT': 'BUILDING_CLASS_AT_PRESENT',\n",
        "        'APARTMENT NUMBER': 'APARTMENT_NUMBER',\n",
        "        'ZIP CODE': 'ZIP_CODE',\n",
        "        'RESIDENTIAL UNITS': 'RESIDENTIAL_UNITS',\n",
        "        'COMMERCIAL UNITS': 'COMMERCIAL_UNITS',\n",
        "        'TOTAL UNITS': 'TOTAL_UNITS',\n",
        "        'LAND SQUARE FEET': 'LAND_SQUARE_FEET',\n",
        "        'GROSS SQUARE FEET': 'GROSS_SQUARE_FEET',\n",
        "        'YEAR BUILT': 'YEAR_BUILT',\n",
        "        'TAX CLASS AT TIME OF SALE': 'TAX_CLASS_AT_TIME_OF_SALE',\n",
        "        'BUILDING CLASS AT TIME OF SALE': 'BUILDING_CLASS_AT_TIME_OF_SALE',\n",
        "        'SALE PRICE': 'SALE_PRICE',\n",
        "        'SALE DATE': 'SALE_DATE'\n",
        "    },\n",
        "    axis=1,\n",
        "    inplace=True)\n",
        "\n",
        "df_base.info()"
      ]
    },
    {
      "cell_type": "markdown",
      "metadata": {
        "id": "9oRcNJpks-Pv"
      },
      "source": [
        "## Ensure Correct Format of Values"
      ]
    },
    {
      "cell_type": "markdown",
      "metadata": {
        "id": "DJc1cP8Js-Px"
      },
      "source": [
        "Use the table above as reference"
      ]
    },
    {
      "cell_type": "code",
      "execution_count": 11,
      "metadata": {
        "id": "yXE1oRwfs-Px"
      },
      "outputs": [
        {
          "data": {
            "text/plain": [
              "BOROUGH                                   object\n",
              "NEIGHBORHOOD                              object\n",
              "BUILDING_CLASS_CATEGORY                   object\n",
              "TAX_CLASS_AT_PRESENT                      object\n",
              "BLOCK                                     object\n",
              "LOT                                       object\n",
              "BUILDING_CLASS_AT_PRESENT                 object\n",
              "ADDRESS                                   object\n",
              "APARTMENT_NUMBER                          object\n",
              "ZIP_CODE                                  object\n",
              "RESIDENTIAL_UNITS                          int64\n",
              "COMMERCIAL_UNITS                           int64\n",
              "TOTAL_UNITS                                int64\n",
              "LAND_SQUARE_FEET                           int32\n",
              "GROSS_SQUARE_FEET                          int32\n",
              "YEAR_BUILT                                 int64\n",
              "TAX_CLASS_AT_TIME_OF_SALE                 object\n",
              "BUILDING_CLASS_AT_TIME_OF_SALE            object\n",
              "SALE_PRICE                               float64\n",
              "SALE_DATE                         datetime64[ns]\n",
              "dtype: object"
            ]
          },
          "execution_count": 11,
          "metadata": {},
          "output_type": "execute_result"
        }
      ],
      "source": [
        "int_col = ['LAND_SQUARE_FEET', 'GROSS_SQUARE_FEET']\n",
        "obj_col = ['BOROUGH', 'BLOCK', 'LOT', 'ZIP_CODE', 'TAX_CLASS_AT_TIME_OF_SALE']\n",
        "\n",
        "\n",
        "for col in int_col:\n",
        "    df_base[col] = df_base[col].replace(' -  ', 0).astype(int)\n",
        "\n",
        "for col in obj_col:\n",
        "    df_base[col] = df_base[col].astype(object)\n",
        "\n",
        "df_base['SALE_PRICE'] = df_base['SALE_PRICE'].replace(' -  ', 0).astype(float)\n",
        "\n",
        "df_base.dtypes"
      ]
    },
    {
      "cell_type": "code",
      "execution_count": 12,
      "metadata": {},
      "outputs": [
        {
          "data": {
            "text/html": [
              "<div>\n",
              "<style scoped>\n",
              "    .dataframe tbody tr th:only-of-type {\n",
              "        vertical-align: middle;\n",
              "    }\n",
              "\n",
              "    .dataframe tbody tr th {\n",
              "        vertical-align: top;\n",
              "    }\n",
              "\n",
              "    .dataframe thead th {\n",
              "        text-align: right;\n",
              "    }\n",
              "</style>\n",
              "<table border=\"1\" class=\"dataframe\">\n",
              "  <thead>\n",
              "    <tr style=\"text-align: right;\">\n",
              "      <th></th>\n",
              "      <th>BOROUGH</th>\n",
              "      <th>NEIGHBORHOOD</th>\n",
              "      <th>BUILDING_CLASS_CATEGORY</th>\n",
              "      <th>TAX_CLASS_AT_PRESENT</th>\n",
              "      <th>BLOCK</th>\n",
              "      <th>LOT</th>\n",
              "      <th>BUILDING_CLASS_AT_PRESENT</th>\n",
              "      <th>ADDRESS</th>\n",
              "      <th>APARTMENT_NUMBER</th>\n",
              "      <th>ZIP_CODE</th>\n",
              "      <th>RESIDENTIAL_UNITS</th>\n",
              "      <th>COMMERCIAL_UNITS</th>\n",
              "      <th>TOTAL_UNITS</th>\n",
              "      <th>LAND_SQUARE_FEET</th>\n",
              "      <th>GROSS_SQUARE_FEET</th>\n",
              "      <th>YEAR_BUILT</th>\n",
              "      <th>TAX_CLASS_AT_TIME_OF_SALE</th>\n",
              "      <th>BUILDING_CLASS_AT_TIME_OF_SALE</th>\n",
              "      <th>SALE_PRICE</th>\n",
              "      <th>SALE_DATE</th>\n",
              "    </tr>\n",
              "  </thead>\n",
              "  <tbody>\n",
              "    <tr>\n",
              "      <th>4</th>\n",
              "      <td>1</td>\n",
              "      <td>ALPHABET CITY</td>\n",
              "      <td>07 RENTALS - WALKUP APARTMENTS</td>\n",
              "      <td>2A</td>\n",
              "      <td>392</td>\n",
              "      <td>6</td>\n",
              "      <td>C2</td>\n",
              "      <td>153 AVENUE B</td>\n",
              "      <td></td>\n",
              "      <td>10009</td>\n",
              "      <td>5</td>\n",
              "      <td>0</td>\n",
              "      <td>5</td>\n",
              "      <td>1633</td>\n",
              "      <td>6440</td>\n",
              "      <td>1900</td>\n",
              "      <td>2</td>\n",
              "      <td>C2</td>\n",
              "      <td>6625000.00</td>\n",
              "      <td>2017-07-19</td>\n",
              "    </tr>\n",
              "    <tr>\n",
              "      <th>5</th>\n",
              "      <td>1</td>\n",
              "      <td>ALPHABET CITY</td>\n",
              "      <td>07 RENTALS - WALKUP APARTMENTS</td>\n",
              "      <td>2</td>\n",
              "      <td>399</td>\n",
              "      <td>26</td>\n",
              "      <td>C7</td>\n",
              "      <td>234 EAST 4TH   STREET</td>\n",
              "      <td></td>\n",
              "      <td>10009</td>\n",
              "      <td>28</td>\n",
              "      <td>3</td>\n",
              "      <td>31</td>\n",
              "      <td>4616</td>\n",
              "      <td>18690</td>\n",
              "      <td>1900</td>\n",
              "      <td>2</td>\n",
              "      <td>C7</td>\n",
              "      <td>0.00</td>\n",
              "      <td>2016-12-14</td>\n",
              "    </tr>\n",
              "    <tr>\n",
              "      <th>6</th>\n",
              "      <td>1</td>\n",
              "      <td>ALPHABET CITY</td>\n",
              "      <td>07 RENTALS - WALKUP APARTMENTS</td>\n",
              "      <td>2</td>\n",
              "      <td>399</td>\n",
              "      <td>39</td>\n",
              "      <td>C7</td>\n",
              "      <td>197 EAST 3RD   STREET</td>\n",
              "      <td></td>\n",
              "      <td>10009</td>\n",
              "      <td>16</td>\n",
              "      <td>1</td>\n",
              "      <td>17</td>\n",
              "      <td>2212</td>\n",
              "      <td>7803</td>\n",
              "      <td>1900</td>\n",
              "      <td>2</td>\n",
              "      <td>C7</td>\n",
              "      <td>0.00</td>\n",
              "      <td>2016-12-09</td>\n",
              "    </tr>\n",
              "    <tr>\n",
              "      <th>7</th>\n",
              "      <td>1</td>\n",
              "      <td>ALPHABET CITY</td>\n",
              "      <td>07 RENTALS - WALKUP APARTMENTS</td>\n",
              "      <td>2B</td>\n",
              "      <td>402</td>\n",
              "      <td>21</td>\n",
              "      <td>C4</td>\n",
              "      <td>154 EAST 7TH STREET</td>\n",
              "      <td></td>\n",
              "      <td>10009</td>\n",
              "      <td>10</td>\n",
              "      <td>0</td>\n",
              "      <td>10</td>\n",
              "      <td>2272</td>\n",
              "      <td>6794</td>\n",
              "      <td>1913</td>\n",
              "      <td>2</td>\n",
              "      <td>C4</td>\n",
              "      <td>3936272.00</td>\n",
              "      <td>2016-09-23</td>\n",
              "    </tr>\n",
              "    <tr>\n",
              "      <th>8</th>\n",
              "      <td>1</td>\n",
              "      <td>ALPHABET CITY</td>\n",
              "      <td>07 RENTALS - WALKUP APARTMENTS</td>\n",
              "      <td>2A</td>\n",
              "      <td>404</td>\n",
              "      <td>55</td>\n",
              "      <td>C2</td>\n",
              "      <td>301 EAST 10TH   STREET</td>\n",
              "      <td></td>\n",
              "      <td>10009</td>\n",
              "      <td>6</td>\n",
              "      <td>0</td>\n",
              "      <td>6</td>\n",
              "      <td>2369</td>\n",
              "      <td>4615</td>\n",
              "      <td>1900</td>\n",
              "      <td>2</td>\n",
              "      <td>C2</td>\n",
              "      <td>8000000.00</td>\n",
              "      <td>2016-11-17</td>\n",
              "    </tr>\n",
              "  </tbody>\n",
              "</table>\n",
              "</div>"
            ],
            "text/plain": [
              "  BOROUGH   NEIGHBORHOOD                      BUILDING_CLASS_CATEGORY  \\\n",
              "4       1  ALPHABET CITY  07 RENTALS - WALKUP APARTMENTS                \n",
              "5       1  ALPHABET CITY  07 RENTALS - WALKUP APARTMENTS                \n",
              "6       1  ALPHABET CITY  07 RENTALS - WALKUP APARTMENTS                \n",
              "7       1  ALPHABET CITY  07 RENTALS - WALKUP APARTMENTS                \n",
              "8       1  ALPHABET CITY  07 RENTALS - WALKUP APARTMENTS                \n",
              "\n",
              "  TAX_CLASS_AT_PRESENT BLOCK LOT BUILDING_CLASS_AT_PRESENT  \\\n",
              "4                   2A   392   6                        C2   \n",
              "5                    2   399  26                        C7   \n",
              "6                    2   399  39                        C7   \n",
              "7                   2B   402  21                        C4   \n",
              "8                   2A   404  55                        C2   \n",
              "\n",
              "                  ADDRESS APARTMENT_NUMBER ZIP_CODE  RESIDENTIAL_UNITS  \\\n",
              "4            153 AVENUE B                     10009                  5   \n",
              "5   234 EAST 4TH   STREET                     10009                 28   \n",
              "6   197 EAST 3RD   STREET                     10009                 16   \n",
              "7     154 EAST 7TH STREET                     10009                 10   \n",
              "8  301 EAST 10TH   STREET                     10009                  6   \n",
              "\n",
              "   COMMERCIAL_UNITS  TOTAL_UNITS  LAND_SQUARE_FEET  GROSS_SQUARE_FEET  \\\n",
              "4                 0            5              1633               6440   \n",
              "5                 3           31              4616              18690   \n",
              "6                 1           17              2212               7803   \n",
              "7                 0           10              2272               6794   \n",
              "8                 0            6              2369               4615   \n",
              "\n",
              "   YEAR_BUILT TAX_CLASS_AT_TIME_OF_SALE BUILDING_CLASS_AT_TIME_OF_SALE  \\\n",
              "4        1900                         2                             C2   \n",
              "5        1900                         2                             C7   \n",
              "6        1900                         2                             C7   \n",
              "7        1913                         2                             C4   \n",
              "8        1900                         2                             C2   \n",
              "\n",
              "   SALE_PRICE  SALE_DATE  \n",
              "4  6625000.00 2017-07-19  \n",
              "5        0.00 2016-12-14  \n",
              "6        0.00 2016-12-09  \n",
              "7  3936272.00 2016-09-23  \n",
              "8  8000000.00 2016-11-17  "
            ]
          },
          "execution_count": 12,
          "metadata": {},
          "output_type": "execute_result"
        }
      ],
      "source": [
        "df_base.head()"
      ]
    },
    {
      "cell_type": "markdown",
      "metadata": {
        "id": "ozPJcoTqs-Py"
      },
      "source": [
        "## Remove Duplicates"
      ]
    },
    {
      "cell_type": "markdown",
      "metadata": {
        "id": "D2z7n2Fhs-Py"
      },
      "source": [
        "Check if there are duplicated rows\n"
      ]
    },
    {
      "cell_type": "code",
      "execution_count": 13,
      "metadata": {
        "id": "1GlvdVQss-Pz"
      },
      "outputs": [
        {
          "data": {
            "text/plain": [
              "765"
            ]
          },
          "execution_count": 13,
          "metadata": {},
          "output_type": "execute_result"
        }
      ],
      "source": [
        "df_base.duplicated().sum()"
      ]
    },
    {
      "cell_type": "markdown",
      "metadata": {
        "id": "2bEx08Yts-P0"
      },
      "source": [
        "Remove the duplicates if any"
      ]
    },
    {
      "cell_type": "code",
      "execution_count": 14,
      "metadata": {
        "id": "Ik-3Bnqps-P0"
      },
      "outputs": [],
      "source": [
        "orig_shape = df_base.shape\n",
        "df_base.drop_duplicates(inplace=True)"
      ]
    },
    {
      "cell_type": "markdown",
      "metadata": {
        "id": "M06vo317s-P1"
      },
      "source": [
        "Check if the rows are dropped"
      ]
    },
    {
      "cell_type": "code",
      "execution_count": 15,
      "metadata": {
        "id": "yS-8aC7hs-P1"
      },
      "outputs": [
        {
          "data": {
            "text/plain": [
              "((84548, 20), (83783, 20))"
            ]
          },
          "execution_count": 15,
          "metadata": {},
          "output_type": "execute_result"
        }
      ],
      "source": [
        "orig_shape, df_base.shape"
      ]
    },
    {
      "cell_type": "markdown",
      "metadata": {
        "id": "7RPWBL0cs-P1"
      },
      "source": [
        "## Handle Missing Data"
      ]
    },
    {
      "cell_type": "markdown",
      "metadata": {
        "id": "AG3flWQ2s-P2"
      },
      "source": [
        "Hint: You may have to use the describe function to properly handle missing values for this dataset\n",
        "<br>\n",
        "\n",
        "\n"
      ]
    },
    {
      "cell_type": "markdown",
      "metadata": {
        "id": "8YiRhCjys-P2"
      },
      "source": [
        "For the Target Variable:\n",
        "Many sales occur with a nonsensically small dollar amount: USD0 most commonly. These sales are actually transfers of deeds between parties: for example, parents transferring ownership to their home to a child after moving out for retirement. For our purposes, let's remove any sale price that is less than USD10,000.00"
      ]
    },
    {
      "cell_type": "code",
      "execution_count": 16,
      "metadata": {},
      "outputs": [
        {
          "data": {
            "text/html": [
              "<div>\n",
              "<style scoped>\n",
              "    .dataframe tbody tr th:only-of-type {\n",
              "        vertical-align: middle;\n",
              "    }\n",
              "\n",
              "    .dataframe tbody tr th {\n",
              "        vertical-align: top;\n",
              "    }\n",
              "\n",
              "    .dataframe thead th {\n",
              "        text-align: right;\n",
              "    }\n",
              "</style>\n",
              "<table border=\"1\" class=\"dataframe\">\n",
              "  <thead>\n",
              "    <tr style=\"text-align: right;\">\n",
              "      <th></th>\n",
              "      <th>Total</th>\n",
              "      <th>Percent</th>\n",
              "    </tr>\n",
              "  </thead>\n",
              "  <tbody>\n",
              "    <tr>\n",
              "      <th>BOROUGH</th>\n",
              "      <td>0</td>\n",
              "      <td>0.00</td>\n",
              "    </tr>\n",
              "    <tr>\n",
              "      <th>NEIGHBORHOOD</th>\n",
              "      <td>0</td>\n",
              "      <td>0.00</td>\n",
              "    </tr>\n",
              "    <tr>\n",
              "      <th>SALE_PRICE</th>\n",
              "      <td>0</td>\n",
              "      <td>0.00</td>\n",
              "    </tr>\n",
              "    <tr>\n",
              "      <th>BUILDING_CLASS_AT_TIME_OF_SALE</th>\n",
              "      <td>0</td>\n",
              "      <td>0.00</td>\n",
              "    </tr>\n",
              "    <tr>\n",
              "      <th>TAX_CLASS_AT_TIME_OF_SALE</th>\n",
              "      <td>0</td>\n",
              "      <td>0.00</td>\n",
              "    </tr>\n",
              "    <tr>\n",
              "      <th>YEAR_BUILT</th>\n",
              "      <td>0</td>\n",
              "      <td>0.00</td>\n",
              "    </tr>\n",
              "    <tr>\n",
              "      <th>GROSS_SQUARE_FEET</th>\n",
              "      <td>0</td>\n",
              "      <td>0.00</td>\n",
              "    </tr>\n",
              "    <tr>\n",
              "      <th>LAND_SQUARE_FEET</th>\n",
              "      <td>0</td>\n",
              "      <td>0.00</td>\n",
              "    </tr>\n",
              "    <tr>\n",
              "      <th>TOTAL_UNITS</th>\n",
              "      <td>0</td>\n",
              "      <td>0.00</td>\n",
              "    </tr>\n",
              "    <tr>\n",
              "      <th>COMMERCIAL_UNITS</th>\n",
              "      <td>0</td>\n",
              "      <td>0.00</td>\n",
              "    </tr>\n",
              "    <tr>\n",
              "      <th>RESIDENTIAL_UNITS</th>\n",
              "      <td>0</td>\n",
              "      <td>0.00</td>\n",
              "    </tr>\n",
              "    <tr>\n",
              "      <th>ZIP_CODE</th>\n",
              "      <td>0</td>\n",
              "      <td>0.00</td>\n",
              "    </tr>\n",
              "    <tr>\n",
              "      <th>APARTMENT_NUMBER</th>\n",
              "      <td>0</td>\n",
              "      <td>0.00</td>\n",
              "    </tr>\n",
              "    <tr>\n",
              "      <th>ADDRESS</th>\n",
              "      <td>0</td>\n",
              "      <td>0.00</td>\n",
              "    </tr>\n",
              "    <tr>\n",
              "      <th>BUILDING_CLASS_AT_PRESENT</th>\n",
              "      <td>0</td>\n",
              "      <td>0.00</td>\n",
              "    </tr>\n",
              "    <tr>\n",
              "      <th>LOT</th>\n",
              "      <td>0</td>\n",
              "      <td>0.00</td>\n",
              "    </tr>\n",
              "    <tr>\n",
              "      <th>BLOCK</th>\n",
              "      <td>0</td>\n",
              "      <td>0.00</td>\n",
              "    </tr>\n",
              "    <tr>\n",
              "      <th>TAX_CLASS_AT_PRESENT</th>\n",
              "      <td>0</td>\n",
              "      <td>0.00</td>\n",
              "    </tr>\n",
              "    <tr>\n",
              "      <th>BUILDING_CLASS_CATEGORY</th>\n",
              "      <td>0</td>\n",
              "      <td>0.00</td>\n",
              "    </tr>\n",
              "    <tr>\n",
              "      <th>SALE_DATE</th>\n",
              "      <td>0</td>\n",
              "      <td>0.00</td>\n",
              "    </tr>\n",
              "  </tbody>\n",
              "</table>\n",
              "</div>"
            ],
            "text/plain": [
              "                                Total  Percent\n",
              "BOROUGH                             0     0.00\n",
              "NEIGHBORHOOD                        0     0.00\n",
              "SALE_PRICE                          0     0.00\n",
              "BUILDING_CLASS_AT_TIME_OF_SALE      0     0.00\n",
              "TAX_CLASS_AT_TIME_OF_SALE           0     0.00\n",
              "YEAR_BUILT                          0     0.00\n",
              "GROSS_SQUARE_FEET                   0     0.00\n",
              "LAND_SQUARE_FEET                    0     0.00\n",
              "TOTAL_UNITS                         0     0.00\n",
              "COMMERCIAL_UNITS                    0     0.00\n",
              "RESIDENTIAL_UNITS                   0     0.00\n",
              "ZIP_CODE                            0     0.00\n",
              "APARTMENT_NUMBER                    0     0.00\n",
              "ADDRESS                             0     0.00\n",
              "BUILDING_CLASS_AT_PRESENT           0     0.00\n",
              "LOT                                 0     0.00\n",
              "BLOCK                               0     0.00\n",
              "TAX_CLASS_AT_PRESENT                0     0.00\n",
              "BUILDING_CLASS_CATEGORY             0     0.00\n",
              "SALE_DATE                           0     0.00"
            ]
          },
          "execution_count": 16,
          "metadata": {},
          "output_type": "execute_result"
        }
      ],
      "source": [
        "total = df_base.isnull().sum().sort_values(ascending=False)\n",
        "\n",
        "percent = (df_base.isnull().sum()/df_base.isnull().count()).sort_values(ascending=False)\n",
        "\n",
        "missing_data = pd.concat([total, percent], axis=1, keys=['Total', 'Percent'])\n",
        "\n",
        "missing_data.head(20)"
      ]
    },
    {
      "cell_type": "code",
      "execution_count": 17,
      "metadata": {
        "id": "ws89TzC_s-P3"
      },
      "outputs": [
        {
          "data": {
            "text/plain": [
              "(58333, 20)"
            ]
          },
          "execution_count": 17,
          "metadata": {},
          "output_type": "execute_result"
        }
      ],
      "source": [
        "df_base = df_base[df_base['SALE_PRICE'] >= 10000]\n",
        "\n",
        "df_base.shape"
      ]
    },
    {
      "cell_type": "markdown",
      "metadata": {
        "id": "woM-oFfYs-P3"
      },
      "source": [
        "_______"
      ]
    },
    {
      "cell_type": "markdown",
      "metadata": {
        "id": "nBmnm6vns-P3"
      },
      "source": [
        "## Remove Outliers"
      ]
    },
    {
      "cell_type": "markdown",
      "metadata": {
        "id": "ATKmj-KSs-P4"
      },
      "source": [
        "### Univariate"
      ]
    },
    {
      "cell_type": "markdown",
      "metadata": {
        "id": "uphx0whbs-P4"
      },
      "source": [
        "Check the Distribution of the Target Column"
      ]
    },
    {
      "cell_type": "code",
      "execution_count": 18,
      "metadata": {
        "id": "d1szHzaRs-P7"
      },
      "outputs": [
        {
          "data": {
            "text/plain": [
              "<AxesSubplot:xlabel='SALE_PRICE', ylabel='Density'>"
            ]
          },
          "execution_count": 18,
          "metadata": {},
          "output_type": "execute_result"
        },
        {
          "data": {
            "image/png": "[encoded data removed]",
            "text/plain": [
              "<Figure size 640x480 with 1 Axes>"
            ]
          },
          "metadata": {},
          "output_type": "display_data"
        }
      ],
      "source": [
        "sns.distplot(df_base['SALE_PRICE'])"
      ]
    },
    {
      "cell_type": "code",
      "execution_count": 19,
      "metadata": {},
      "outputs": [
        {
          "data": {
            "text/plain": [
              "<AxesSubplot:xlabel='SALE_PRICE'>"
            ]
          },
          "execution_count": 19,
          "metadata": {},
          "output_type": "execute_result"
        },
        {
          "data": {
            "image/png": "[encoded data removed]",
            "text/plain": [
              "<Figure size 640x480 with 1 Axes>"
            ]
          },
          "metadata": {},
          "output_type": "display_data"
        }
      ],
      "source": [
        "sns.boxplot(df_base['SALE_PRICE'])"
      ]
    },
    {
      "cell_type": "markdown",
      "metadata": {
        "id": "aBTO5bCgs-P8"
      },
      "source": [
        "Remove outliers using any value, which is beyond the range of -1.5 x IQR to 1.5 x IQR\n",
        "\n"
      ]
    },
    {
      "cell_type": "markdown",
      "metadata": {
        "id": "4m_U7BZos-QA"
      },
      "source": [
        "*The interquartile range (IQR), is equal to the difference between 75th and 25th percentiles \n",
        "IQR = Q3 − Q1.*\n",
        "\n",
        "<a href=\"https://en.wikipedia.org/wiki/Interquartile_range\">More information</a>"
      ]
    },
    {
      "cell_type": "code",
      "execution_count": 20,
      "metadata": {},
      "outputs": [
        {
          "name": "stdout",
          "output_type": "stream",
          "text": [
            "Q1:389153\n",
            "Q3:1100000\n",
            "IQR:710847\n"
          ]
        }
      ],
      "source": [
        "Q1 = df_base['SALE_PRICE'].quantile(0.25)\n",
        "Q3 = df_base['SALE_PRICE'].quantile(0.75)\n",
        "IQR = Q3 - Q1\n",
        "print(\"Q1:%i\" %Q1)\n",
        "print(\"Q3:%i\" %Q3)\n",
        "print(\"IQR:%i\" %IQR)"
      ]
    },
    {
      "cell_type": "code",
      "execution_count": 21,
      "metadata": {},
      "outputs": [
        {
          "data": {
            "text/plain": [
              "(52106, 20)"
            ]
          },
          "execution_count": 21,
          "metadata": {},
          "output_type": "execute_result"
        }
      ],
      "source": [
        "df_out = df_base[~((df_base[\"SALE_PRICE\"] < (Q1 - 1.5 * IQR)) |(df_base[\"SALE_PRICE\"] > (Q3 + 1.5 * IQR)))]\n",
        "\n",
        "df_out.shape"
      ]
    },
    {
      "cell_type": "markdown",
      "metadata": {
        "id": "ykBDpiP7s-QB"
      },
      "source": [
        "View the changes in distribution after removing the outliers"
      ]
    },
    {
      "cell_type": "code",
      "execution_count": 22,
      "metadata": {
        "id": "JDJAX7Bks-QC"
      },
      "outputs": [
        {
          "data": {
            "text/plain": [
              "<AxesSubplot:xlabel='SALE_PRICE'>"
            ]
          },
          "execution_count": 22,
          "metadata": {},
          "output_type": "execute_result"
        },
        {
          "data": {
            "image/png": "[encoded data removed]",
            "text/plain": [
              "<Figure size 640x480 with 1 Axes>"
            ]
          },
          "metadata": {},
          "output_type": "display_data"
        }
      ],
      "source": [
        "sns.boxplot(df_out['SALE_PRICE'], orient='v')"
      ]
    },
    {
      "cell_type": "code",
      "execution_count": 23,
      "metadata": {},
      "outputs": [
        {
          "data": {
            "text/plain": [
              "<AxesSubplot:xlabel='SALE_PRICE', ylabel='Density'>"
            ]
          },
          "execution_count": 23,
          "metadata": {},
          "output_type": "execute_result"
        },
        {
          "data": {
            "image/png": "[encoded data removed]",
            "text/plain": [
              "<Figure size 640x480 with 1 Axes>"
            ]
          },
          "metadata": {},
          "output_type": "display_data"
        }
      ],
      "source": [
        "sns.distplot(df_out['SALE_PRICE'])"
      ]
    },
    {
      "cell_type": "markdown",
      "metadata": {
        "id": "1uLEizZCs-QC"
      },
      "source": [
        "______"
      ]
    },
    {
      "cell_type": "markdown",
      "metadata": {
        "id": "uYRWNGOfs-QD"
      },
      "source": [
        "## Split into Numerical, Categorical, and Target"
      ]
    },
    {
      "cell_type": "code",
      "execution_count": 24,
      "metadata": {
        "id": "edBV4dKjs-QD"
      },
      "outputs": [],
      "source": [
        "#Categorical Features Only\n",
        "df_cat = df_out.select_dtypes(include=['object'])\n",
        "\n",
        "#Numerical Features Only\n",
        "df_num = df_out.drop('SALE_PRICE',axis=1).select_dtypes(include=['int64','float64'])\n",
        "\n",
        "target = df_out[\"SALE_PRICE\"]"
      ]
    },
    {
      "cell_type": "markdown",
      "metadata": {
        "id": "GL1HCzpus-QD"
      },
      "source": [
        "_______"
      ]
    },
    {
      "cell_type": "markdown",
      "metadata": {
        "id": "EWRxqyM4s-QD"
      },
      "source": [
        "## Scale the Numerical Features"
      ]
    },
    {
      "cell_type": "markdown",
      "metadata": {
        "id": "iHu-MUSns-QE"
      },
      "source": [
        "Scale using the Robust Scaler"
      ]
    },
    {
      "cell_type": "code",
      "execution_count": 25,
      "metadata": {},
      "outputs": [],
      "source": [
        "from sklearn.preprocessing import RobustScaler\n",
        "\n",
        "scaler = RobustScaler()"
      ]
    },
    {
      "cell_type": "code",
      "execution_count": 26,
      "metadata": {},
      "outputs": [],
      "source": [
        "scaled_values = scaler.fit_transform(df_num)\n",
        "\n",
        "df_num_scaled = pd.DataFrame(scaled_values, columns=df_num.columns, index=df_num.index)"
      ]
    },
    {
      "cell_type": "code",
      "execution_count": 27,
      "metadata": {
        "id": "p4mpOkt4s-QE"
      },
      "outputs": [
        {
          "data": {
            "text/html": [
              "<div>\n",
              "<style scoped>\n",
              "    .dataframe tbody tr th:only-of-type {\n",
              "        vertical-align: middle;\n",
              "    }\n",
              "\n",
              "    .dataframe tbody tr th {\n",
              "        vertical-align: top;\n",
              "    }\n",
              "\n",
              "    .dataframe thead th {\n",
              "        text-align: right;\n",
              "    }\n",
              "</style>\n",
              "<table border=\"1\" class=\"dataframe\">\n",
              "  <thead>\n",
              "    <tr style=\"text-align: right;\">\n",
              "      <th></th>\n",
              "      <th>RESIDENTIAL_UNITS</th>\n",
              "      <th>COMMERCIAL_UNITS</th>\n",
              "      <th>TOTAL_UNITS</th>\n",
              "      <th>YEAR_BUILT</th>\n",
              "    </tr>\n",
              "  </thead>\n",
              "  <tbody>\n",
              "    <tr>\n",
              "      <th>17</th>\n",
              "      <td>-0.50</td>\n",
              "      <td>0.00</td>\n",
              "      <td>-0.50</td>\n",
              "      <td>-0.56</td>\n",
              "    </tr>\n",
              "    <tr>\n",
              "      <th>19</th>\n",
              "      <td>-0.50</td>\n",
              "      <td>0.00</td>\n",
              "      <td>-0.50</td>\n",
              "      <td>-0.56</td>\n",
              "    </tr>\n",
              "    <tr>\n",
              "      <th>20</th>\n",
              "      <td>-0.50</td>\n",
              "      <td>0.00</td>\n",
              "      <td>-0.50</td>\n",
              "      <td>-0.56</td>\n",
              "    </tr>\n",
              "    <tr>\n",
              "      <th>21</th>\n",
              "      <td>-0.50</td>\n",
              "      <td>0.00</td>\n",
              "      <td>-0.50</td>\n",
              "      <td>-0.44</td>\n",
              "    </tr>\n",
              "    <tr>\n",
              "      <th>22</th>\n",
              "      <td>-0.50</td>\n",
              "      <td>0.00</td>\n",
              "      <td>-0.50</td>\n",
              "      <td>-0.56</td>\n",
              "    </tr>\n",
              "  </tbody>\n",
              "</table>\n",
              "</div>"
            ],
            "text/plain": [
              "    RESIDENTIAL_UNITS  COMMERCIAL_UNITS  TOTAL_UNITS  YEAR_BUILT\n",
              "17              -0.50              0.00        -0.50       -0.56\n",
              "19              -0.50              0.00        -0.50       -0.56\n",
              "20              -0.50              0.00        -0.50       -0.56\n",
              "21              -0.50              0.00        -0.50       -0.44\n",
              "22              -0.50              0.00        -0.50       -0.56"
            ]
          },
          "execution_count": 27,
          "metadata": {},
          "output_type": "execute_result"
        }
      ],
      "source": [
        "df_num_scaled.head()"
      ]
    },
    {
      "cell_type": "markdown",
      "metadata": {
        "id": "e5GAiLeYs-QE"
      },
      "source": [
        "_______"
      ]
    },
    {
      "cell_type": "markdown",
      "metadata": {
        "id": "en2lBpDys-QE"
      },
      "source": [
        "## Manage Categorical Variables"
      ]
    },
    {
      "cell_type": "markdown",
      "metadata": {
        "id": "9-Xl0Gw4s-QF"
      },
      "source": [
        "Get the statistics for Categorical columns\n",
        "* Drop those with more than 1000 unique values.\n",
        "* Drop also the features that would not be known at the time of sale. \n",
        "    * Features with \"AT PRESENT\" tags"
      ]
    },
    {
      "cell_type": "code",
      "execution_count": 28,
      "metadata": {
        "id": "_QZgXGJQs-QF"
      },
      "outputs": [
        {
          "data": {
            "text/html": [
              "<div>\n",
              "<style scoped>\n",
              "    .dataframe tbody tr th:only-of-type {\n",
              "        vertical-align: middle;\n",
              "    }\n",
              "\n",
              "    .dataframe tbody tr th {\n",
              "        vertical-align: top;\n",
              "    }\n",
              "\n",
              "    .dataframe thead th {\n",
              "        text-align: right;\n",
              "    }\n",
              "</style>\n",
              "<table border=\"1\" class=\"dataframe\">\n",
              "  <thead>\n",
              "    <tr style=\"text-align: right;\">\n",
              "      <th></th>\n",
              "      <th>BOROUGH</th>\n",
              "      <th>NEIGHBORHOOD</th>\n",
              "      <th>BUILDING_CLASS_CATEGORY</th>\n",
              "      <th>TAX_CLASS_AT_PRESENT</th>\n",
              "      <th>BLOCK</th>\n",
              "      <th>LOT</th>\n",
              "      <th>BUILDING_CLASS_AT_PRESENT</th>\n",
              "      <th>ADDRESS</th>\n",
              "      <th>APARTMENT_NUMBER</th>\n",
              "      <th>ZIP_CODE</th>\n",
              "      <th>TAX_CLASS_AT_TIME_OF_SALE</th>\n",
              "      <th>BUILDING_CLASS_AT_TIME_OF_SALE</th>\n",
              "    </tr>\n",
              "  </thead>\n",
              "  <tbody>\n",
              "    <tr>\n",
              "      <th>count</th>\n",
              "      <td>52106</td>\n",
              "      <td>52106</td>\n",
              "      <td>52106</td>\n",
              "      <td>52106</td>\n",
              "      <td>52106</td>\n",
              "      <td>52106</td>\n",
              "      <td>52106</td>\n",
              "      <td>52106</td>\n",
              "      <td>52106</td>\n",
              "      <td>52106</td>\n",
              "      <td>52106</td>\n",
              "      <td>52106</td>\n",
              "    </tr>\n",
              "    <tr>\n",
              "      <th>unique</th>\n",
              "      <td>5</td>\n",
              "      <td>252</td>\n",
              "      <td>43</td>\n",
              "      <td>10</td>\n",
              "      <td>10290</td>\n",
              "      <td>2252</td>\n",
              "      <td>121</td>\n",
              "      <td>44661</td>\n",
              "      <td>2366</td>\n",
              "      <td>182</td>\n",
              "      <td>3</td>\n",
              "      <td>119</td>\n",
              "    </tr>\n",
              "    <tr>\n",
              "      <th>top</th>\n",
              "      <td>4</td>\n",
              "      <td>FLUSHING-NORTH</td>\n",
              "      <td>01 ONE FAMILY DWELLINGS</td>\n",
              "      <td>1</td>\n",
              "      <td>5066</td>\n",
              "      <td>1</td>\n",
              "      <td>D4</td>\n",
              "      <td>131-05 40TH   ROAD</td>\n",
              "      <td></td>\n",
              "      <td>10314</td>\n",
              "      <td>1</td>\n",
              "      <td>D4</td>\n",
              "    </tr>\n",
              "    <tr>\n",
              "      <th>freq</th>\n",
              "      <td>17664</td>\n",
              "      <td>2062</td>\n",
              "      <td>12399</td>\n",
              "      <td>24139</td>\n",
              "      <td>388</td>\n",
              "      <td>3007</td>\n",
              "      <td>10620</td>\n",
              "      <td>209</td>\n",
              "      <td>41677</td>\n",
              "      <td>1099</td>\n",
              "      <td>25807</td>\n",
              "      <td>10620</td>\n",
              "    </tr>\n",
              "  </tbody>\n",
              "</table>\n",
              "</div>"
            ],
            "text/plain": [
              "        BOROUGH    NEIGHBORHOOD                      BUILDING_CLASS_CATEGORY  \\\n",
              "count     52106           52106                                        52106   \n",
              "unique        5             252                                           43   \n",
              "top           4  FLUSHING-NORTH  01 ONE FAMILY DWELLINGS                       \n",
              "freq      17664            2062                                        12399   \n",
              "\n",
              "       TAX_CLASS_AT_PRESENT  BLOCK    LOT BUILDING_CLASS_AT_PRESENT  \\\n",
              "count                 52106  52106  52106                     52106   \n",
              "unique                   10  10290   2252                       121   \n",
              "top                       1   5066      1                        D4   \n",
              "freq                  24139    388   3007                     10620   \n",
              "\n",
              "                   ADDRESS APARTMENT_NUMBER  ZIP_CODE  \\\n",
              "count                52106            52106     52106   \n",
              "unique               44661             2366       182   \n",
              "top     131-05 40TH   ROAD                      10314   \n",
              "freq                   209            41677      1099   \n",
              "\n",
              "        TAX_CLASS_AT_TIME_OF_SALE BUILDING_CLASS_AT_TIME_OF_SALE  \n",
              "count                       52106                          52106  \n",
              "unique                          3                            119  \n",
              "top                             1                             D4  \n",
              "freq                        25807                          10620  "
            ]
          },
          "execution_count": 28,
          "metadata": {},
          "output_type": "execute_result"
        }
      ],
      "source": [
        "df_cat.describe()"
      ]
    },
    {
      "cell_type": "code",
      "execution_count": 29,
      "metadata": {},
      "outputs": [
        {
          "data": {
            "text/html": [
              "<div>\n",
              "<style scoped>\n",
              "    .dataframe tbody tr th:only-of-type {\n",
              "        vertical-align: middle;\n",
              "    }\n",
              "\n",
              "    .dataframe tbody tr th {\n",
              "        vertical-align: top;\n",
              "    }\n",
              "\n",
              "    .dataframe thead th {\n",
              "        text-align: right;\n",
              "    }\n",
              "</style>\n",
              "<table border=\"1\" class=\"dataframe\">\n",
              "  <thead>\n",
              "    <tr style=\"text-align: right;\">\n",
              "      <th></th>\n",
              "      <th>BOROUGH</th>\n",
              "      <th>NEIGHBORHOOD</th>\n",
              "      <th>BUILDING_CLASS_CATEGORY</th>\n",
              "      <th>ZIP_CODE</th>\n",
              "      <th>TAX_CLASS_AT_TIME_OF_SALE</th>\n",
              "      <th>BUILDING_CLASS_AT_TIME_OF_SALE</th>\n",
              "    </tr>\n",
              "  </thead>\n",
              "  <tbody>\n",
              "    <tr>\n",
              "      <th>count</th>\n",
              "      <td>52106</td>\n",
              "      <td>52106</td>\n",
              "      <td>52106</td>\n",
              "      <td>52106</td>\n",
              "      <td>52106</td>\n",
              "      <td>52106</td>\n",
              "    </tr>\n",
              "    <tr>\n",
              "      <th>unique</th>\n",
              "      <td>5</td>\n",
              "      <td>252</td>\n",
              "      <td>43</td>\n",
              "      <td>182</td>\n",
              "      <td>3</td>\n",
              "      <td>119</td>\n",
              "    </tr>\n",
              "    <tr>\n",
              "      <th>top</th>\n",
              "      <td>4</td>\n",
              "      <td>FLUSHING-NORTH</td>\n",
              "      <td>01 ONE FAMILY DWELLINGS</td>\n",
              "      <td>10314</td>\n",
              "      <td>1</td>\n",
              "      <td>D4</td>\n",
              "    </tr>\n",
              "    <tr>\n",
              "      <th>freq</th>\n",
              "      <td>17664</td>\n",
              "      <td>2062</td>\n",
              "      <td>12399</td>\n",
              "      <td>1099</td>\n",
              "      <td>25807</td>\n",
              "      <td>10620</td>\n",
              "    </tr>\n",
              "  </tbody>\n",
              "</table>\n",
              "</div>"
            ],
            "text/plain": [
              "        BOROUGH    NEIGHBORHOOD                      BUILDING_CLASS_CATEGORY  \\\n",
              "count     52106           52106                                        52106   \n",
              "unique        5             252                                           43   \n",
              "top           4  FLUSHING-NORTH  01 ONE FAMILY DWELLINGS                       \n",
              "freq      17664            2062                                        12399   \n",
              "\n",
              "        ZIP_CODE  TAX_CLASS_AT_TIME_OF_SALE BUILDING_CLASS_AT_TIME_OF_SALE  \n",
              "count      52106                      52106                          52106  \n",
              "unique       182                          3                            119  \n",
              "top        10314                          1                             D4  \n",
              "freq        1099                      25807                          10620  "
            ]
          },
          "execution_count": 29,
          "metadata": {},
          "output_type": "execute_result"
        }
      ],
      "source": [
        "df_cat.drop(columns=['BLOCK', 'LOT', 'ADDRESS', 'APARTMENT_NUMBER'], axis=1, inplace=True)\n",
        "df_cat.drop(columns=['BUILDING_CLASS_AT_PRESENT', 'TAX_CLASS_AT_PRESENT'], axis=1, inplace=True)\n",
        "\n",
        "df_cat.describe()"
      ]
    },
    {
      "cell_type": "markdown",
      "metadata": {
        "id": "ap_Ngwfqs-QG"
      },
      "source": [
        " Convert Categories to Number "
      ]
    },
    {
      "cell_type": "code",
      "execution_count": 30,
      "metadata": {
        "id": "X9B15MzMs-QG"
      },
      "outputs": [
        {
          "data": {
            "text/html": [
              "<div>\n",
              "<style scoped>\n",
              "    .dataframe tbody tr th:only-of-type {\n",
              "        vertical-align: middle;\n",
              "    }\n",
              "\n",
              "    .dataframe tbody tr th {\n",
              "        vertical-align: top;\n",
              "    }\n",
              "\n",
              "    .dataframe thead th {\n",
              "        text-align: right;\n",
              "    }\n",
              "</style>\n",
              "<table border=\"1\" class=\"dataframe\">\n",
              "  <thead>\n",
              "    <tr style=\"text-align: right;\">\n",
              "      <th></th>\n",
              "      <th>BOROUGH_1</th>\n",
              "      <th>BOROUGH_2</th>\n",
              "      <th>BOROUGH_3</th>\n",
              "      <th>BOROUGH_4</th>\n",
              "      <th>BOROUGH_5</th>\n",
              "      <th>NEIGHBORHOOD_AIRPORT LA GUARDIA</th>\n",
              "      <th>NEIGHBORHOOD_ALPHABET CITY</th>\n",
              "      <th>NEIGHBORHOOD_ANNADALE</th>\n",
              "      <th>NEIGHBORHOOD_ARDEN HEIGHTS</th>\n",
              "      <th>NEIGHBORHOOD_ARROCHAR</th>\n",
              "      <th>...</th>\n",
              "      <th>BUILDING_CLASS_AT_TIME_OF_SALE_V1</th>\n",
              "      <th>BUILDING_CLASS_AT_TIME_OF_SALE_V2</th>\n",
              "      <th>BUILDING_CLASS_AT_TIME_OF_SALE_V3</th>\n",
              "      <th>BUILDING_CLASS_AT_TIME_OF_SALE_V9</th>\n",
              "      <th>BUILDING_CLASS_AT_TIME_OF_SALE_W2</th>\n",
              "      <th>BUILDING_CLASS_AT_TIME_OF_SALE_W3</th>\n",
              "      <th>BUILDING_CLASS_AT_TIME_OF_SALE_W8</th>\n",
              "      <th>BUILDING_CLASS_AT_TIME_OF_SALE_W9</th>\n",
              "      <th>BUILDING_CLASS_AT_TIME_OF_SALE_Z0</th>\n",
              "      <th>BUILDING_CLASS_AT_TIME_OF_SALE_Z9</th>\n",
              "    </tr>\n",
              "  </thead>\n",
              "  <tbody>\n",
              "    <tr>\n",
              "      <th>17</th>\n",
              "      <td>1</td>\n",
              "      <td>0</td>\n",
              "      <td>0</td>\n",
              "      <td>0</td>\n",
              "      <td>0</td>\n",
              "      <td>0</td>\n",
              "      <td>1</td>\n",
              "      <td>0</td>\n",
              "      <td>0</td>\n",
              "      <td>0</td>\n",
              "      <td>...</td>\n",
              "      <td>0</td>\n",
              "      <td>0</td>\n",
              "      <td>0</td>\n",
              "      <td>0</td>\n",
              "      <td>0</td>\n",
              "      <td>0</td>\n",
              "      <td>0</td>\n",
              "      <td>0</td>\n",
              "      <td>0</td>\n",
              "      <td>0</td>\n",
              "    </tr>\n",
              "    <tr>\n",
              "      <th>19</th>\n",
              "      <td>1</td>\n",
              "      <td>0</td>\n",
              "      <td>0</td>\n",
              "      <td>0</td>\n",
              "      <td>0</td>\n",
              "      <td>0</td>\n",
              "      <td>1</td>\n",
              "      <td>0</td>\n",
              "      <td>0</td>\n",
              "      <td>0</td>\n",
              "      <td>...</td>\n",
              "      <td>0</td>\n",
              "      <td>0</td>\n",
              "      <td>0</td>\n",
              "      <td>0</td>\n",
              "      <td>0</td>\n",
              "      <td>0</td>\n",
              "      <td>0</td>\n",
              "      <td>0</td>\n",
              "      <td>0</td>\n",
              "      <td>0</td>\n",
              "    </tr>\n",
              "    <tr>\n",
              "      <th>20</th>\n",
              "      <td>1</td>\n",
              "      <td>0</td>\n",
              "      <td>0</td>\n",
              "      <td>0</td>\n",
              "      <td>0</td>\n",
              "      <td>0</td>\n",
              "      <td>1</td>\n",
              "      <td>0</td>\n",
              "      <td>0</td>\n",
              "      <td>0</td>\n",
              "      <td>...</td>\n",
              "      <td>0</td>\n",
              "      <td>0</td>\n",
              "      <td>0</td>\n",
              "      <td>0</td>\n",
              "      <td>0</td>\n",
              "      <td>0</td>\n",
              "      <td>0</td>\n",
              "      <td>0</td>\n",
              "      <td>0</td>\n",
              "      <td>0</td>\n",
              "    </tr>\n",
              "    <tr>\n",
              "      <th>21</th>\n",
              "      <td>1</td>\n",
              "      <td>0</td>\n",
              "      <td>0</td>\n",
              "      <td>0</td>\n",
              "      <td>0</td>\n",
              "      <td>0</td>\n",
              "      <td>1</td>\n",
              "      <td>0</td>\n",
              "      <td>0</td>\n",
              "      <td>0</td>\n",
              "      <td>...</td>\n",
              "      <td>0</td>\n",
              "      <td>0</td>\n",
              "      <td>0</td>\n",
              "      <td>0</td>\n",
              "      <td>0</td>\n",
              "      <td>0</td>\n",
              "      <td>0</td>\n",
              "      <td>0</td>\n",
              "      <td>0</td>\n",
              "      <td>0</td>\n",
              "    </tr>\n",
              "    <tr>\n",
              "      <th>22</th>\n",
              "      <td>1</td>\n",
              "      <td>0</td>\n",
              "      <td>0</td>\n",
              "      <td>0</td>\n",
              "      <td>0</td>\n",
              "      <td>0</td>\n",
              "      <td>1</td>\n",
              "      <td>0</td>\n",
              "      <td>0</td>\n",
              "      <td>0</td>\n",
              "      <td>...</td>\n",
              "      <td>0</td>\n",
              "      <td>0</td>\n",
              "      <td>0</td>\n",
              "      <td>0</td>\n",
              "      <td>0</td>\n",
              "      <td>0</td>\n",
              "      <td>0</td>\n",
              "      <td>0</td>\n",
              "      <td>0</td>\n",
              "      <td>0</td>\n",
              "    </tr>\n",
              "  </tbody>\n",
              "</table>\n",
              "<p>5 rows × 604 columns</p>\n",
              "</div>"
            ],
            "text/plain": [
              "    BOROUGH_1  BOROUGH_2  BOROUGH_3  BOROUGH_4  BOROUGH_5  \\\n",
              "17          1          0          0          0          0   \n",
              "19          1          0          0          0          0   \n",
              "20          1          0          0          0          0   \n",
              "21          1          0          0          0          0   \n",
              "22          1          0          0          0          0   \n",
              "\n",
              "    NEIGHBORHOOD_AIRPORT LA GUARDIA  NEIGHBORHOOD_ALPHABET CITY  \\\n",
              "17                                0                           1   \n",
              "19                                0                           1   \n",
              "20                                0                           1   \n",
              "21                                0                           1   \n",
              "22                                0                           1   \n",
              "\n",
              "    NEIGHBORHOOD_ANNADALE  NEIGHBORHOOD_ARDEN HEIGHTS  NEIGHBORHOOD_ARROCHAR  \\\n",
              "17                      0                           0                      0   \n",
              "19                      0                           0                      0   \n",
              "20                      0                           0                      0   \n",
              "21                      0                           0                      0   \n",
              "22                      0                           0                      0   \n",
              "\n",
              "    ...  BUILDING_CLASS_AT_TIME_OF_SALE_V1  BUILDING_CLASS_AT_TIME_OF_SALE_V2  \\\n",
              "17  ...                                  0                                  0   \n",
              "19  ...                                  0                                  0   \n",
              "20  ...                                  0                                  0   \n",
              "21  ...                                  0                                  0   \n",
              "22  ...                                  0                                  0   \n",
              "\n",
              "    BUILDING_CLASS_AT_TIME_OF_SALE_V3  BUILDING_CLASS_AT_TIME_OF_SALE_V9  \\\n",
              "17                                  0                                  0   \n",
              "19                                  0                                  0   \n",
              "20                                  0                                  0   \n",
              "21                                  0                                  0   \n",
              "22                                  0                                  0   \n",
              "\n",
              "    BUILDING_CLASS_AT_TIME_OF_SALE_W2  BUILDING_CLASS_AT_TIME_OF_SALE_W3  \\\n",
              "17                                  0                                  0   \n",
              "19                                  0                                  0   \n",
              "20                                  0                                  0   \n",
              "21                                  0                                  0   \n",
              "22                                  0                                  0   \n",
              "\n",
              "    BUILDING_CLASS_AT_TIME_OF_SALE_W8  BUILDING_CLASS_AT_TIME_OF_SALE_W9  \\\n",
              "17                                  0                                  0   \n",
              "19                                  0                                  0   \n",
              "20                                  0                                  0   \n",
              "21                                  0                                  0   \n",
              "22                                  0                                  0   \n",
              "\n",
              "    BUILDING_CLASS_AT_TIME_OF_SALE_Z0  BUILDING_CLASS_AT_TIME_OF_SALE_Z9  \n",
              "17                                  0                                  0  \n",
              "19                                  0                                  0  \n",
              "20                                  0                                  0  \n",
              "21                                  0                                  0  \n",
              "22                                  0                                  0  \n",
              "\n",
              "[5 rows x 604 columns]"
            ]
          },
          "execution_count": 30,
          "metadata": {},
          "output_type": "execute_result"
        }
      ],
      "source": [
        "df_cat = pd.get_dummies(df_cat)\n",
        "\n",
        "df_cat.head()"
      ]
    },
    {
      "cell_type": "markdown",
      "metadata": {
        "id": "X5dxGUFLs-QG"
      },
      "source": [
        "_______"
      ]
    },
    {
      "cell_type": "markdown",
      "metadata": {
        "id": "wNDkVrjms-QH"
      },
      "source": [
        "# Save the final dataset as a CSV File"
      ]
    },
    {
      "cell_type": "code",
      "execution_count": 31,
      "metadata": {
        "id": "OAV4UayIs-QH"
      },
      "outputs": [],
      "source": [
        "df_list = [df_num_scaled, df_cat, target]\n",
        "\n",
        "df_final = pd.concat(df_list, axis=1)"
      ]
    },
    {
      "cell_type": "code",
      "execution_count": 32,
      "metadata": {},
      "outputs": [
        {
          "data": {
            "text/html": [
              "<div>\n",
              "<style scoped>\n",
              "    .dataframe tbody tr th:only-of-type {\n",
              "        vertical-align: middle;\n",
              "    }\n",
              "\n",
              "    .dataframe tbody tr th {\n",
              "        vertical-align: top;\n",
              "    }\n",
              "\n",
              "    .dataframe thead th {\n",
              "        text-align: right;\n",
              "    }\n",
              "</style>\n",
              "<table border=\"1\" class=\"dataframe\">\n",
              "  <thead>\n",
              "    <tr style=\"text-align: right;\">\n",
              "      <th></th>\n",
              "      <th>RESIDENTIAL_UNITS</th>\n",
              "      <th>COMMERCIAL_UNITS</th>\n",
              "      <th>TOTAL_UNITS</th>\n",
              "      <th>YEAR_BUILT</th>\n",
              "      <th>BOROUGH_1</th>\n",
              "      <th>BOROUGH_2</th>\n",
              "      <th>BOROUGH_3</th>\n",
              "      <th>BOROUGH_4</th>\n",
              "      <th>BOROUGH_5</th>\n",
              "      <th>NEIGHBORHOOD_AIRPORT LA GUARDIA</th>\n",
              "      <th>...</th>\n",
              "      <th>BUILDING_CLASS_AT_TIME_OF_SALE_V2</th>\n",
              "      <th>BUILDING_CLASS_AT_TIME_OF_SALE_V3</th>\n",
              "      <th>BUILDING_CLASS_AT_TIME_OF_SALE_V9</th>\n",
              "      <th>BUILDING_CLASS_AT_TIME_OF_SALE_W2</th>\n",
              "      <th>BUILDING_CLASS_AT_TIME_OF_SALE_W3</th>\n",
              "      <th>BUILDING_CLASS_AT_TIME_OF_SALE_W8</th>\n",
              "      <th>BUILDING_CLASS_AT_TIME_OF_SALE_W9</th>\n",
              "      <th>BUILDING_CLASS_AT_TIME_OF_SALE_Z0</th>\n",
              "      <th>BUILDING_CLASS_AT_TIME_OF_SALE_Z9</th>\n",
              "      <th>SALE_PRICE</th>\n",
              "    </tr>\n",
              "  </thead>\n",
              "  <tbody>\n",
              "    <tr>\n",
              "      <th>17</th>\n",
              "      <td>-0.50</td>\n",
              "      <td>0.00</td>\n",
              "      <td>-0.50</td>\n",
              "      <td>-0.56</td>\n",
              "      <td>1</td>\n",
              "      <td>0</td>\n",
              "      <td>0</td>\n",
              "      <td>0</td>\n",
              "      <td>0</td>\n",
              "      <td>0</td>\n",
              "      <td>...</td>\n",
              "      <td>0</td>\n",
              "      <td>0</td>\n",
              "      <td>0</td>\n",
              "      <td>0</td>\n",
              "      <td>0</td>\n",
              "      <td>0</td>\n",
              "      <td>0</td>\n",
              "      <td>0</td>\n",
              "      <td>0</td>\n",
              "      <td>499000.00</td>\n",
              "    </tr>\n",
              "    <tr>\n",
              "      <th>19</th>\n",
              "      <td>-0.50</td>\n",
              "      <td>0.00</td>\n",
              "      <td>-0.50</td>\n",
              "      <td>-0.56</td>\n",
              "      <td>1</td>\n",
              "      <td>0</td>\n",
              "      <td>0</td>\n",
              "      <td>0</td>\n",
              "      <td>0</td>\n",
              "      <td>0</td>\n",
              "      <td>...</td>\n",
              "      <td>0</td>\n",
              "      <td>0</td>\n",
              "      <td>0</td>\n",
              "      <td>0</td>\n",
              "      <td>0</td>\n",
              "      <td>0</td>\n",
              "      <td>0</td>\n",
              "      <td>0</td>\n",
              "      <td>0</td>\n",
              "      <td>529500.00</td>\n",
              "    </tr>\n",
              "    <tr>\n",
              "      <th>20</th>\n",
              "      <td>-0.50</td>\n",
              "      <td>0.00</td>\n",
              "      <td>-0.50</td>\n",
              "      <td>-0.56</td>\n",
              "      <td>1</td>\n",
              "      <td>0</td>\n",
              "      <td>0</td>\n",
              "      <td>0</td>\n",
              "      <td>0</td>\n",
              "      <td>0</td>\n",
              "      <td>...</td>\n",
              "      <td>0</td>\n",
              "      <td>0</td>\n",
              "      <td>0</td>\n",
              "      <td>0</td>\n",
              "      <td>0</td>\n",
              "      <td>0</td>\n",
              "      <td>0</td>\n",
              "      <td>0</td>\n",
              "      <td>0</td>\n",
              "      <td>423000.00</td>\n",
              "    </tr>\n",
              "    <tr>\n",
              "      <th>21</th>\n",
              "      <td>-0.50</td>\n",
              "      <td>0.00</td>\n",
              "      <td>-0.50</td>\n",
              "      <td>-0.44</td>\n",
              "      <td>1</td>\n",
              "      <td>0</td>\n",
              "      <td>0</td>\n",
              "      <td>0</td>\n",
              "      <td>0</td>\n",
              "      <td>0</td>\n",
              "      <td>...</td>\n",
              "      <td>0</td>\n",
              "      <td>0</td>\n",
              "      <td>0</td>\n",
              "      <td>0</td>\n",
              "      <td>0</td>\n",
              "      <td>0</td>\n",
              "      <td>0</td>\n",
              "      <td>0</td>\n",
              "      <td>0</td>\n",
              "      <td>501000.00</td>\n",
              "    </tr>\n",
              "    <tr>\n",
              "      <th>22</th>\n",
              "      <td>-0.50</td>\n",
              "      <td>0.00</td>\n",
              "      <td>-0.50</td>\n",
              "      <td>-0.56</td>\n",
              "      <td>1</td>\n",
              "      <td>0</td>\n",
              "      <td>0</td>\n",
              "      <td>0</td>\n",
              "      <td>0</td>\n",
              "      <td>0</td>\n",
              "      <td>...</td>\n",
              "      <td>0</td>\n",
              "      <td>0</td>\n",
              "      <td>0</td>\n",
              "      <td>0</td>\n",
              "      <td>0</td>\n",
              "      <td>0</td>\n",
              "      <td>0</td>\n",
              "      <td>0</td>\n",
              "      <td>0</td>\n",
              "      <td>450000.00</td>\n",
              "    </tr>\n",
              "  </tbody>\n",
              "</table>\n",
              "<p>5 rows × 609 columns</p>\n",
              "</div>"
            ],
            "text/plain": [
              "    RESIDENTIAL_UNITS  COMMERCIAL_UNITS  TOTAL_UNITS  YEAR_BUILT  BOROUGH_1  \\\n",
              "17              -0.50              0.00        -0.50       -0.56          1   \n",
              "19              -0.50              0.00        -0.50       -0.56          1   \n",
              "20              -0.50              0.00        -0.50       -0.56          1   \n",
              "21              -0.50              0.00        -0.50       -0.44          1   \n",
              "22              -0.50              0.00        -0.50       -0.56          1   \n",
              "\n",
              "    BOROUGH_2  BOROUGH_3  BOROUGH_4  BOROUGH_5  \\\n",
              "17          0          0          0          0   \n",
              "19          0          0          0          0   \n",
              "20          0          0          0          0   \n",
              "21          0          0          0          0   \n",
              "22          0          0          0          0   \n",
              "\n",
              "    NEIGHBORHOOD_AIRPORT LA GUARDIA  ...  BUILDING_CLASS_AT_TIME_OF_SALE_V2  \\\n",
              "17                                0  ...                                  0   \n",
              "19                                0  ...                                  0   \n",
              "20                                0  ...                                  0   \n",
              "21                                0  ...                                  0   \n",
              "22                                0  ...                                  0   \n",
              "\n",
              "    BUILDING_CLASS_AT_TIME_OF_SALE_V3  BUILDING_CLASS_AT_TIME_OF_SALE_V9  \\\n",
              "17                                  0                                  0   \n",
              "19                                  0                                  0   \n",
              "20                                  0                                  0   \n",
              "21                                  0                                  0   \n",
              "22                                  0                                  0   \n",
              "\n",
              "    BUILDING_CLASS_AT_TIME_OF_SALE_W2  BUILDING_CLASS_AT_TIME_OF_SALE_W3  \\\n",
              "17                                  0                                  0   \n",
              "19                                  0                                  0   \n",
              "20                                  0                                  0   \n",
              "21                                  0                                  0   \n",
              "22                                  0                                  0   \n",
              "\n",
              "    BUILDING_CLASS_AT_TIME_OF_SALE_W8  BUILDING_CLASS_AT_TIME_OF_SALE_W9  \\\n",
              "17                                  0                                  0   \n",
              "19                                  0                                  0   \n",
              "20                                  0                                  0   \n",
              "21                                  0                                  0   \n",
              "22                                  0                                  0   \n",
              "\n",
              "    BUILDING_CLASS_AT_TIME_OF_SALE_Z0  BUILDING_CLASS_AT_TIME_OF_SALE_Z9  \\\n",
              "17                                  0                                  0   \n",
              "19                                  0                                  0   \n",
              "20                                  0                                  0   \n",
              "21                                  0                                  0   \n",
              "22                                  0                                  0   \n",
              "\n",
              "    SALE_PRICE  \n",
              "17   499000.00  \n",
              "19   529500.00  \n",
              "20   423000.00  \n",
              "21   501000.00  \n",
              "22   450000.00  \n",
              "\n",
              "[5 rows x 609 columns]"
            ]
          },
          "execution_count": 32,
          "metadata": {},
          "output_type": "execute_result"
        }
      ],
      "source": [
        "df_final.head()"
      ]
    },
    {
      "cell_type": "code",
      "execution_count": 33,
      "metadata": {},
      "outputs": [],
      "source": [
        "df_final.to_csv('./data/nyc_cleaned.csv', index=False)"
      ]
    },
    {
      "cell_type": "markdown",
      "metadata": {
        "id": "0PkZbPbYs-QH"
      },
      "source": [
        "### Check if it loads correctly"
      ]
    },
    {
      "cell_type": "code",
      "execution_count": 34,
      "metadata": {
        "id": "3pcBOTtes-QI"
      },
      "outputs": [
        {
          "data": {
            "text/html": [
              "<div>\n",
              "<style scoped>\n",
              "    .dataframe tbody tr th:only-of-type {\n",
              "        vertical-align: middle;\n",
              "    }\n",
              "\n",
              "    .dataframe tbody tr th {\n",
              "        vertical-align: top;\n",
              "    }\n",
              "\n",
              "    .dataframe thead th {\n",
              "        text-align: right;\n",
              "    }\n",
              "</style>\n",
              "<table border=\"1\" class=\"dataframe\">\n",
              "  <thead>\n",
              "    <tr style=\"text-align: right;\">\n",
              "      <th></th>\n",
              "      <th>RESIDENTIAL_UNITS</th>\n",
              "      <th>COMMERCIAL_UNITS</th>\n",
              "      <th>TOTAL_UNITS</th>\n",
              "      <th>YEAR_BUILT</th>\n",
              "      <th>BOROUGH_1</th>\n",
              "      <th>BOROUGH_2</th>\n",
              "      <th>BOROUGH_3</th>\n",
              "      <th>BOROUGH_4</th>\n",
              "      <th>BOROUGH_5</th>\n",
              "      <th>NEIGHBORHOOD_AIRPORT LA GUARDIA</th>\n",
              "      <th>...</th>\n",
              "      <th>BUILDING_CLASS_AT_TIME_OF_SALE_V2</th>\n",
              "      <th>BUILDING_CLASS_AT_TIME_OF_SALE_V3</th>\n",
              "      <th>BUILDING_CLASS_AT_TIME_OF_SALE_V9</th>\n",
              "      <th>BUILDING_CLASS_AT_TIME_OF_SALE_W2</th>\n",
              "      <th>BUILDING_CLASS_AT_TIME_OF_SALE_W3</th>\n",
              "      <th>BUILDING_CLASS_AT_TIME_OF_SALE_W8</th>\n",
              "      <th>BUILDING_CLASS_AT_TIME_OF_SALE_W9</th>\n",
              "      <th>BUILDING_CLASS_AT_TIME_OF_SALE_Z0</th>\n",
              "      <th>BUILDING_CLASS_AT_TIME_OF_SALE_Z9</th>\n",
              "      <th>SALE_PRICE</th>\n",
              "    </tr>\n",
              "  </thead>\n",
              "  <tbody>\n",
              "    <tr>\n",
              "      <th>0</th>\n",
              "      <td>-0.50</td>\n",
              "      <td>0.00</td>\n",
              "      <td>-0.50</td>\n",
              "      <td>-0.56</td>\n",
              "      <td>1</td>\n",
              "      <td>0</td>\n",
              "      <td>0</td>\n",
              "      <td>0</td>\n",
              "      <td>0</td>\n",
              "      <td>0</td>\n",
              "      <td>...</td>\n",
              "      <td>0</td>\n",
              "      <td>0</td>\n",
              "      <td>0</td>\n",
              "      <td>0</td>\n",
              "      <td>0</td>\n",
              "      <td>0</td>\n",
              "      <td>0</td>\n",
              "      <td>0</td>\n",
              "      <td>0</td>\n",
              "      <td>499000.00</td>\n",
              "    </tr>\n",
              "    <tr>\n",
              "      <th>1</th>\n",
              "      <td>-0.50</td>\n",
              "      <td>0.00</td>\n",
              "      <td>-0.50</td>\n",
              "      <td>-0.56</td>\n",
              "      <td>1</td>\n",
              "      <td>0</td>\n",
              "      <td>0</td>\n",
              "      <td>0</td>\n",
              "      <td>0</td>\n",
              "      <td>0</td>\n",
              "      <td>...</td>\n",
              "      <td>0</td>\n",
              "      <td>0</td>\n",
              "      <td>0</td>\n",
              "      <td>0</td>\n",
              "      <td>0</td>\n",
              "      <td>0</td>\n",
              "      <td>0</td>\n",
              "      <td>0</td>\n",
              "      <td>0</td>\n",
              "      <td>529500.00</td>\n",
              "    </tr>\n",
              "    <tr>\n",
              "      <th>2</th>\n",
              "      <td>-0.50</td>\n",
              "      <td>0.00</td>\n",
              "      <td>-0.50</td>\n",
              "      <td>-0.56</td>\n",
              "      <td>1</td>\n",
              "      <td>0</td>\n",
              "      <td>0</td>\n",
              "      <td>0</td>\n",
              "      <td>0</td>\n",
              "      <td>0</td>\n",
              "      <td>...</td>\n",
              "      <td>0</td>\n",
              "      <td>0</td>\n",
              "      <td>0</td>\n",
              "      <td>0</td>\n",
              "      <td>0</td>\n",
              "      <td>0</td>\n",
              "      <td>0</td>\n",
              "      <td>0</td>\n",
              "      <td>0</td>\n",
              "      <td>423000.00</td>\n",
              "    </tr>\n",
              "    <tr>\n",
              "      <th>3</th>\n",
              "      <td>-0.50</td>\n",
              "      <td>0.00</td>\n",
              "      <td>-0.50</td>\n",
              "      <td>-0.44</td>\n",
              "      <td>1</td>\n",
              "      <td>0</td>\n",
              "      <td>0</td>\n",
              "      <td>0</td>\n",
              "      <td>0</td>\n",
              "      <td>0</td>\n",
              "      <td>...</td>\n",
              "      <td>0</td>\n",
              "      <td>0</td>\n",
              "      <td>0</td>\n",
              "      <td>0</td>\n",
              "      <td>0</td>\n",
              "      <td>0</td>\n",
              "      <td>0</td>\n",
              "      <td>0</td>\n",
              "      <td>0</td>\n",
              "      <td>501000.00</td>\n",
              "    </tr>\n",
              "    <tr>\n",
              "      <th>4</th>\n",
              "      <td>-0.50</td>\n",
              "      <td>0.00</td>\n",
              "      <td>-0.50</td>\n",
              "      <td>-0.56</td>\n",
              "      <td>1</td>\n",
              "      <td>0</td>\n",
              "      <td>0</td>\n",
              "      <td>0</td>\n",
              "      <td>0</td>\n",
              "      <td>0</td>\n",
              "      <td>...</td>\n",
              "      <td>0</td>\n",
              "      <td>0</td>\n",
              "      <td>0</td>\n",
              "      <td>0</td>\n",
              "      <td>0</td>\n",
              "      <td>0</td>\n",
              "      <td>0</td>\n",
              "      <td>0</td>\n",
              "      <td>0</td>\n",
              "      <td>450000.00</td>\n",
              "    </tr>\n",
              "  </tbody>\n",
              "</table>\n",
              "<p>5 rows × 609 columns</p>\n",
              "</div>"
            ],
            "text/plain": [
              "   RESIDENTIAL_UNITS  COMMERCIAL_UNITS  TOTAL_UNITS  YEAR_BUILT  BOROUGH_1  \\\n",
              "0              -0.50              0.00        -0.50       -0.56          1   \n",
              "1              -0.50              0.00        -0.50       -0.56          1   \n",
              "2              -0.50              0.00        -0.50       -0.56          1   \n",
              "3              -0.50              0.00        -0.50       -0.44          1   \n",
              "4              -0.50              0.00        -0.50       -0.56          1   \n",
              "\n",
              "   BOROUGH_2  BOROUGH_3  BOROUGH_4  BOROUGH_5  \\\n",
              "0          0          0          0          0   \n",
              "1          0          0          0          0   \n",
              "2          0          0          0          0   \n",
              "3          0          0          0          0   \n",
              "4          0          0          0          0   \n",
              "\n",
              "   NEIGHBORHOOD_AIRPORT LA GUARDIA  ...  BUILDING_CLASS_AT_TIME_OF_SALE_V2  \\\n",
              "0                                0  ...                                  0   \n",
              "1                                0  ...                                  0   \n",
              "2                                0  ...                                  0   \n",
              "3                                0  ...                                  0   \n",
              "4                                0  ...                                  0   \n",
              "\n",
              "   BUILDING_CLASS_AT_TIME_OF_SALE_V3  BUILDING_CLASS_AT_TIME_OF_SALE_V9  \\\n",
              "0                                  0                                  0   \n",
              "1                                  0                                  0   \n",
              "2                                  0                                  0   \n",
              "3                                  0                                  0   \n",
              "4                                  0                                  0   \n",
              "\n",
              "   BUILDING_CLASS_AT_TIME_OF_SALE_W2  BUILDING_CLASS_AT_TIME_OF_SALE_W3  \\\n",
              "0                                  0                                  0   \n",
              "1                                  0                                  0   \n",
              "2                                  0                                  0   \n",
              "3                                  0                                  0   \n",
              "4                                  0                                  0   \n",
              "\n",
              "   BUILDING_CLASS_AT_TIME_OF_SALE_W8  BUILDING_CLASS_AT_TIME_OF_SALE_W9  \\\n",
              "0                                  0                                  0   \n",
              "1                                  0                                  0   \n",
              "2                                  0                                  0   \n",
              "3                                  0                                  0   \n",
              "4                                  0                                  0   \n",
              "\n",
              "   BUILDING_CLASS_AT_TIME_OF_SALE_Z0  BUILDING_CLASS_AT_TIME_OF_SALE_Z9  \\\n",
              "0                                  0                                  0   \n",
              "1                                  0                                  0   \n",
              "2                                  0                                  0   \n",
              "3                                  0                                  0   \n",
              "4                                  0                                  0   \n",
              "\n",
              "   SALE_PRICE  \n",
              "0   499000.00  \n",
              "1   529500.00  \n",
              "2   423000.00  \n",
              "3   501000.00  \n",
              "4   450000.00  \n",
              "\n",
              "[5 rows x 609 columns]"
            ]
          },
          "execution_count": 34,
          "metadata": {},
          "output_type": "execute_result"
        }
      ],
      "source": [
        "pd.read_csv('./data/nyc_cleaned.csv').head()"
      ]
    }
  ],
  "metadata": {
    "colab": {
      "name": "Case Study 2 - Data Preparation - NYC.ipynb",
      "provenance": []
    },
    "kernelspec": {
      "display_name": "Python 3",
      "language": "python",
      "name": "python3"
    },
    "language_info": {
      "codemirror_mode": {
        "name": "ipython",
        "version": 3
      },
      "file_extension": ".py",
      "mimetype": "text/x-python",
      "name": "python",
      "nbconvert_exporter": "python",
      "pygments_lexer": "ipython3",
      "version": "3.8.8"
    }
  },
  "nbformat": 4,
  "nbformat_minor": 0
}
